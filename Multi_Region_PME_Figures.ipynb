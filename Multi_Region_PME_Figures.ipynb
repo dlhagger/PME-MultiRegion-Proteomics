{
 "cells": [
  {
   "cell_type": "code",
   "execution_count": null,
   "id": "bd127762-07ef-443c-9ce3-a3c27e48469b",
   "metadata": {},
   "outputs": [],
   "source": [
    "import pandas as pd\n",
    "import numpy as np\n",
    "import matplotlib.pyplot as plt\n",
    "plt.rcParams['pdf.fonttype'] = 42\n",
    "plt.rcParams['ps.fonttype'] = 42\n",
    "plt.rcParams['font.family'] = 'Arial'\n",
    "import seaborn as sns\n",
    "sns.set_context(\"talk\")\n",
    "cmap = ['#9B1D20','#03254E','#B4B8AB']\n",
    "sns.set_palette(cmap, n_colors=3, desat=None, color_codes=False)\n",
    "import os \n",
    "import glob\n",
    "import statsmodels.api as sm\n",
    "from pathlib import Path\n",
    "from scipy import stats\n",
    "import pingouin as pg\n",
    "from matplotlib_venn import venn2, venn3\n",
    "from matplotlib import pyplot as plt\n",
    "import venn\n",
    "from venn import venn\n",
    "\n",
    "def render_mpl_table(data, col_width=3.0, row_height=0.625, font_size=24, edges='horizontal',\n",
    "                     header_color='#fff', row_colors=['w', '#eee'], edge_color='w',\n",
    "                     bbox=[0, 0, 1, 1], header_columns=0,\n",
    "                     ax=None, **kwargs):\n",
    "    if ax is None:\n",
    "        size = (np.array(data.shape[::-1]) + np.array([0, 1])) * np.array([col_width, row_height])\n",
    "        fig, ax = plt.subplots(figsize=size)\n",
    "        ax.axis('off')\n",
    "    mpl_table = ax.table(cellText=data.values, \n",
    "                         bbox=bbox, \n",
    "                         colLabels=data.columns,\n",
    "                         #edges=edges,\n",
    "                         **kwargs)\n",
    "    mpl_table.auto_set_font_size(False)\n",
    "    mpl_table.set_fontsize(font_size)\n",
    "\n",
    "    for k, cell in mpl_table._cells.items():\n",
    "        cell.set_edgecolor(edge_color)\n",
    "        if k[0] == 0 or k[1] < header_columns:\n",
    "            cell.set_text_props(weight='bold', color='black')\n",
    "            cell.set_facecolor(header_color)\n",
    "        else:\n",
    "            cell.set_facecolor(row_colors[k[0]%len(row_colors) ])\n",
    "    return ax.get_figure(), ax"
   ]
  },
  {
   "cell_type": "markdown",
   "id": "d91e58ca-afcc-423a-8d19-ebe4a25e94f2",
   "metadata": {
    "jp-MarkdownHeadingCollapsed": true,
    "tags": []
   },
   "source": [
    "# M1"
   ]
  },
  {
   "cell_type": "code",
   "execution_count": null,
   "id": "df7f61c6-e96a-4e34-88a4-a36383a787a1",
   "metadata": {},
   "outputs": [],
   "source": [
    "df = pd.read_excel('M1set_Global_treatmentonly.xlsx', sheet_name='Cleaned')"
   ]
  },
  {
   "cell_type": "code",
   "execution_count": null,
   "id": "731ee6b3-92e8-40ce-a362-57cb97423ae1",
   "metadata": {},
   "outputs": [],
   "source": [
    "## Make a volcano plot\n",
    "\n",
    "df.loc[df['Abundance Ratio P-Value: (PME, M1) / (PSE, M1)'] >= 0.05, 'Sig'] = \"Non-Significant\"\n",
    "df.loc[(df['Abundance Ratio P-Value: (PME, M1) / (PSE, M1)'] < 0.05) & (df['Abundance Ratio (log2): (PME, M1) / (PSE, M1)'] <= 0), 'Sig'] = \"Down-Regulated\"\n",
    "df.loc[(df['Abundance Ratio P-Value: (PME, M1) / (PSE, M1)'] < 0.05) & (df['Abundance Ratio (log2): (PME, M1) / (PSE, M1)'] > 0), 'Sig'] = \"Up-Regulated\"\n",
    "\n",
    "df"
   ]
  },
  {
   "cell_type": "code",
   "execution_count": null,
   "id": "6071182f-55b5-43f7-a388-6687b86ce41b",
   "metadata": {},
   "outputs": [],
   "source": [
    "## Make a volcano plot\n",
    "\n",
    "df.loc[df['Abundance Ratio P-Value: (PME, M1) / (PSE, M1)'] >= 0.05, 'Sig'] = \"Non-Significant\"\n",
    "df.loc[(df['Abundance Ratio P-Value: (PME, M1) / (PSE, M1)'] < 0.05) & (df['Abundance Ratio (log2): (PME, M1) / (PSE, M1)'] <= 0), 'Sig'] = \"Down-Regulated\"\n",
    "df.loc[(df['Abundance Ratio P-Value: (PME, M1) / (PSE, M1)'] < 0.05) & (df['Abundance Ratio (log2): (PME, M1) / (PSE, M1)'] > 0), 'Sig'] = \"Up-Regulated\"\n",
    "\n",
    "f, ax = plt.subplots(figsize=(10,8))\n",
    "sns.despine()\n",
    "\n",
    "sns.scatterplot(data = df, y = 'Negativelog p-value', x = 'Abundance Ratio (log2): (PME, M1) / (PSE, M1)',\n",
    "                hue = 'Sig', hue_order= ['Up-Regulated','Down-Regulated','Non-Significant'],\n",
    "                linewidth = 0.0)\n",
    "\n",
    "handles, labels = ax.get_legend_handles_labels()\n",
    "ax.legend(handles[:], labels[:], frameon=False, loc = \"upper right\")\n",
    "\n",
    "plt.title(\"M1 Proteomics\", size = 24)\n",
    "plt.ylabel('-log(P value)')\n",
    "plt.xlabel('Abundance Ratio (log2): PME/PSE')\n",
    "plt.ylim(-.3, 6)\n",
    "plt.xlim(-1.1,1.1)\n",
    "\n",
    "plt.vlines(x = 0, ymin = -0.2, ymax = 5.8, colors='Black', linestyles='dashed')\n",
    "plt.hlines(y = (df.loc[df['Sig'] == \"Non-Significant\", 'Negativelog p-value'].max()),\n",
    "           xmin = -1.02, xmax = 1.02, colors='Black', linestyles='dashed')\n",
    "\n",
    "\n",
    "#plt.savefig('M1_Volcano_Protein.pdf', transparent = True, dpi = 300)\n",
    "plt.tight_layout()\n",
    "plt.show()\n",
    "plt.clf()"
   ]
  },
  {
   "cell_type": "code",
   "execution_count": null,
   "id": "8c1adc50-834d-46b7-ada2-64f5afa2f6aa",
   "metadata": {},
   "outputs": [],
   "source": [
    "df.shape"
   ]
  },
  {
   "cell_type": "code",
   "execution_count": null,
   "id": "b297f385-fc59-453a-8083-425e0986dcb2",
   "metadata": {},
   "outputs": [],
   "source": [
    "len(df.loc[df['Sig'] != \"Non-Significant\"])"
   ]
  },
  {
   "cell_type": "code",
   "execution_count": null,
   "id": "8217079b-17db-46d3-b430-d83ce061548f",
   "metadata": {},
   "outputs": [],
   "source": [
    "print(len(df.loc[df['Sig'] == \"Up-Regulated\"]))\n",
    "print(len(df.loc[df['Sig'] == \"Down-Regulated\"]))"
   ]
  },
  {
   "cell_type": "code",
   "execution_count": null,
   "id": "20855545-5bfb-49a9-bdb2-ea9a4fa17be9",
   "metadata": {},
   "outputs": [],
   "source": [
    "df_phos = pd.read_excel('2020_10_155_Lumos_Atwood_Grecco_Msets_PhosphopeptideSummary.xlsx', sheet_name='Cleaned')"
   ]
  },
  {
   "cell_type": "code",
   "execution_count": null,
   "id": "2e7b3678-4cb8-4f47-a871-994109ae9d24",
   "metadata": {},
   "outputs": [],
   "source": [
    "## Make a volcano plot\n",
    "\n",
    "df_phos.loc[df_phos['Abundance Ratio P-Value: (PME, M1) / (PSE, M1)'] >= 0.05, 'Sig'] = \"Non-Significant\"\n",
    "df_phos.loc[(df_phos['Abundance Ratio P-Value: (PME, M1) / (PSE, M1)'] < 0.05) & (df_phos['Abundance Ratio (log2): (PME, M1) / (PSE, M1)'] <= 0), 'Sig'] = \"Down-Regulated\"\n",
    "df_phos.loc[(df_phos['Abundance Ratio P-Value: (PME, M1) / (PSE, M1)'] < 0.05) & (df_phos['Abundance Ratio (log2): (PME, M1) / (PSE, M1)'] > 0), 'Sig'] = \"Up-Regulated\"\n",
    "\n",
    "f, ax = plt.subplots(figsize=(10,8))\n",
    "sns.despine()\n",
    "\n",
    "sns.scatterplot(data = df_phos, y = 'Negativelog p-value', x = 'Abundance Ratio (log2): (PME, M1) / (PSE, M1)',\n",
    "                hue = 'Sig', hue_order= ['Up-Regulated','Down-Regulated','Non-Significant'],\n",
    "                linewidth = 0.0)\n",
    "\n",
    "handles, labels = ax.get_legend_handles_labels()\n",
    "ax.legend(handles[:], labels[:], frameon=False, loc = \"upper right\")\n",
    "\n",
    "plt.title(\"M1 Phosphopeptide\", size = 24)\n",
    "plt.ylabel('-log(P value)')\n",
    "plt.xlabel('Abundance Ratio (log2): PME/PSE')\n",
    "plt.ylim(-.3, 6)\n",
    "plt.xlim(-1.1,2.1)\n",
    "\n",
    "plt.vlines(x = 0, ymin = -0.2, ymax = 5.8, colors='Black', linestyles='dashed')\n",
    "plt.hlines(y = (df_phos.loc[df_phos['Sig'] == \"Non-Significant\", 'Negativelog p-value'].max()),\n",
    "           xmin = -1.02, xmax = 2.02, colors='Black', linestyles='dashed')\n",
    "\n",
    "\n",
    "#plt.savefig('M1_Volcano__Phos_Protein.pdf', transparent = True, dpi = 300)\n",
    "plt.tight_layout()\n",
    "plt.show()\n",
    "plt.clf()"
   ]
  },
  {
   "cell_type": "code",
   "execution_count": null,
   "id": "53091874-b1b2-4910-bfee-f17c6d69d4c5",
   "metadata": {},
   "outputs": [],
   "source": [
    "df_phos.shape"
   ]
  },
  {
   "cell_type": "code",
   "execution_count": null,
   "id": "1cd2046a-9b79-4e49-8528-798a8df683cf",
   "metadata": {},
   "outputs": [],
   "source": [
    "len(df_phos[df_phos['Sig'] != \"Non-Significant\"])"
   ]
  },
  {
   "cell_type": "code",
   "execution_count": null,
   "id": "71284168-2616-472e-8443-596d837a73dd",
   "metadata": {},
   "outputs": [],
   "source": [
    "print(len(df_phos.loc[df_phos['Sig'] == \"Up-Regulated\"]))\n",
    "print(len(df_phos.loc[df_phos['Sig'] == \"Down-Regulated\"]))"
   ]
  },
  {
   "cell_type": "markdown",
   "id": "d60ff4a7",
   "metadata": {
    "jp-MarkdownHeadingCollapsed": true,
    "tags": []
   },
   "source": [
    "## Heatmaps"
   ]
  },
  {
   "cell_type": "code",
   "execution_count": null,
   "id": "71f930b9-629a-45ec-8cb3-e70ee1923dc8",
   "metadata": {},
   "outputs": [],
   "source": [
    "hm = pd.read_excel('M1set_Global_treatmentonly.xlsx', sheet_name='Heat Map Pivot')\n",
    "hm.head()"
   ]
  },
  {
   "cell_type": "code",
   "execution_count": null,
   "id": "931d5085-05d5-4e75-9854-14930af6250b",
   "metadata": {},
   "outputs": [],
   "source": [
    "hm.groupby([\"ID\"]).median().T"
   ]
  },
  {
   "cell_type": "code",
   "execution_count": null,
   "id": "d0a301e3-45d7-438a-bad6-f18ddd5226e3",
   "metadata": {},
   "outputs": [],
   "source": [
    "#hm = pd.read_excel('2020_10_155_Lumos_Atwood_Grecco_Mset_Global_treatmentonly.xlsx', sheet_name='Heat Map Pivot')\n",
    "sns.clustermap(hm.groupby([\"Sex\",\"Exposure\"]).mean().T, method='complete',\n",
    "               row_cluster = True, robust = False, figsize=(10,20)).savefig(\"protein_cluster.png\")"
   ]
  },
  {
   "cell_type": "code",
   "execution_count": null,
   "id": "0bab3d3f",
   "metadata": {},
   "outputs": [],
   "source": [
    "sns.clustermap(hm.groupby([\"Sex\",\"Exposure\"]).mean().T, method='complete', robust = False, figsize=(10,20)).savefig(\"protein_cluster.pdf\")"
   ]
  },
  {
   "cell_type": "code",
   "execution_count": null,
   "id": "f21f642f",
   "metadata": {},
   "outputs": [],
   "source": [
    "#sns.clustermap(hm.groupby(\"Exposure\").mean().T, robust = False, row_cluster=False, method='complete')"
   ]
  },
  {
   "cell_type": "code",
   "execution_count": null,
   "id": "476338ff",
   "metadata": {},
   "outputs": [],
   "source": [
    "sns.clustermap(hm.groupby([\"ID\"]).mean().T, method='complete', col_cluster=False, robust = False, figsize=(10,18)).savefig(\"protein_cluster_IND.pdf\")"
   ]
  },
  {
   "cell_type": "code",
   "execution_count": null,
   "id": "3d04bfde-a017-42eb-8da4-d0aee260bd3a",
   "metadata": {},
   "outputs": [],
   "source": [
    "hmp = pd.read_excel('2020_10_155_Lumos_Atwood_Grecco_Msets_PhosphopeptideSummary.xlsx', sheet_name='Heat Map Pivot')\n",
    "sns.clustermap(hmp.groupby([\"Sex\",\"Exposure\"]).mean().T, method='complete',\n",
    "               robust = False, figsize=(10,20)).savefig(\"phos_protein_cluster.pdf\")"
   ]
  },
  {
   "cell_type": "code",
   "execution_count": null,
   "id": "d26cb9d8-54de-471a-bb03-8d61dd3be344",
   "metadata": {},
   "outputs": [],
   "source": [
    "sns.clustermap(hmp.groupby(\"ID\").mean().T, robust = False, \n",
    "               col_cluster=False, method='complete',figsize=(10,18)).savefig(\"phos_protein_cluster_IND.pdf\")"
   ]
  },
  {
   "cell_type": "markdown",
   "id": "05f19007-1d4d-47bc-a282-8f2593d95f5b",
   "metadata": {
    "jp-MarkdownHeadingCollapsed": true,
    "tags": []
   },
   "source": [
    "## GO Terms"
   ]
  },
  {
   "cell_type": "code",
   "execution_count": null,
   "id": "3a03282a-01f5-435f-b840-cab3f68a63fc",
   "metadata": {},
   "outputs": [],
   "source": [
    "overlap = pd.read_excel('M1_GO.xlsx', sheet_name=\"Gene Overlap\")\n",
    "\n",
    "overlap = overlap.loc[overlap['Region'] == \"M1\"]\n",
    "\n",
    "venn2([set(overlap.loc[overlap['Type'] == 'Peptide', \"GeneID\"].dropna()), set(overlap.loc[overlap['Type'] == 'Phosphopeptide', \"GeneID\"].dropna())],\n",
    "      set_labels = ('Proteome', 'Phosphoproteome'),\n",
    "      set_colors=('red', 'blue'))\n",
    "\n",
    "plt.title(\"M1 Gene IDs\", size = 24)\n",
    "plt.tight_layout()\n",
    "#plt.savefig('M1_Geneoverlap.pdf', transparent = True, dpi = 300)\n",
    "plt.show()\n",
    "plt.clf()"
   ]
  },
  {
   "cell_type": "code",
   "execution_count": null,
   "id": "abddaca9-20d7-4373-a668-dd7dc983d4a4",
   "metadata": {},
   "outputs": [],
   "source": [
    "#len(set(overlap.loc[overlap['Type'] == 'Peptide', \"GeneID\"].dropna()) & set(overlap.loc[overlap['Type'] == 'Phosphopeptide', \"GeneID\"].dropna())) #overlap\n",
    "#len(set(overlap.loc[overlap['Type'] == 'Peptide', \"GeneID\"].dropna()) - set(overlap.loc[overlap['Type'] == 'Phosphopeptide', \"GeneID\"].dropna())) # only protein\n",
    "#len(set(overlap.loc[overlap['Type'] == 'Phosphopeptide', \"GeneID\"].dropna()) - set(overlap.loc[overlap['Type'] == 'Peptide', \"GeneID\"].dropna())) # only phosphoprotein"
   ]
  },
  {
   "cell_type": "code",
   "execution_count": null,
   "id": "a36093ca-73ef-488c-9303-b460c525af1c",
   "metadata": {},
   "outputs": [],
   "source": [
    "list = set(overlap.loc[overlap['Type'] == 'Peptide', \"GeneID\"].dropna()) & set(overlap.loc[overlap['Type'] == 'Phosphopeptide', \"GeneID\"].dropna()) ## Overlap\n",
    "\n",
    "test1 = overlap[overlap.GeneID.isin(list)].groupby(['GeneID']).mean().sort_values(by=['Abundance_Ratio_L2']).head()\n",
    "test2 = overlap[overlap.GeneID.isin(list)].groupby(['GeneID']).mean().sort_values(by=['Abundance_Ratio_L2']).tail()\n",
    "\n",
    "genes = pd.concat([test1,test2])\n",
    "\n",
    "genes.columns = ['Abudance Ratio p-Value','Log2(Abudance Ratio)']\n",
    "\n",
    "genes = genes.reset_index()\n",
    "\n",
    "fig,ax = render_mpl_table(genes.round(4), header_columns=0, col_width=6.0)\n",
    "\n",
    "plt.plot([0,1],[1-1/(genes.shape[0]+1),1-1/(genes.shape[0]+1)], c='black', lw=0.5)\n",
    "plt.xlim(0,1)\n",
    "plt.ylim(0,1)\n",
    "plt.savefig('M1genes_Overlap.pdf')"
   ]
  },
  {
   "cell_type": "code",
   "execution_count": null,
   "id": "4b9518f2-086b-40a4-8851-6e3cb87352fe",
   "metadata": {},
   "outputs": [],
   "source": [
    "list = set(overlap.loc[overlap['Type'] == 'Peptide', \"GeneID\"].dropna()) - set(overlap.loc[overlap['Type'] == 'Phosphopeptide', \"GeneID\"].dropna()) # only protein\n",
    "\n",
    "test1 = overlap[overlap.GeneID.isin(list)].groupby(['GeneID']).mean().sort_values(by=['Abundance_Ratio_L2']).head()\n",
    "test2 = overlap[overlap.GeneID.isin(list)].groupby(['GeneID']).mean().sort_values(by=['Abundance_Ratio_L2']).tail()\n",
    "\n",
    "genes = pd.concat([test1,test2])\n",
    "\n",
    "genes.columns = ['Abudance Ratio p-Value','Log2(Abudance Ratio)']\n",
    "\n",
    "genes = genes.reset_index()\n",
    "\n",
    "fig,ax = render_mpl_table(genes.round(4), header_columns=0, col_width=6.0)\n",
    "\n",
    "plt.plot([0,1],[1-1/(genes.shape[0]+1),1-1/(genes.shape[0]+1)], c='black', lw=0.5)\n",
    "plt.xlim(0,1)\n",
    "plt.ylim(0,1)\n",
    "plt.savefig('M1genes_OnlyProtein.pdf')"
   ]
  },
  {
   "cell_type": "code",
   "execution_count": null,
   "id": "608b7443-95b4-47a8-908c-b312ef5f74d5",
   "metadata": {},
   "outputs": [],
   "source": [
    "list = set(overlap.loc[overlap['Type'] == 'Phosphopeptide', \"GeneID\"].dropna()) - set(overlap.loc[overlap['Type'] == 'Peptide', \"GeneID\"].dropna()) # only phosphopeptide\n",
    "\n",
    "test1 = overlap[overlap.GeneID.isin(list)].groupby(['GeneID']).mean().sort_values(by=['Abundance_Ratio_L2']).head()\n",
    "test2 = overlap[overlap.GeneID.isin(list)].groupby(['GeneID']).mean().sort_values(by=['Abundance_Ratio_L2']).tail()\n",
    "\n",
    "genes = pd.concat([test1,test2])\n",
    "\n",
    "genes.columns = ['Abudance Ratio p-Value','Log2(Abudance Ratio)']\n",
    "\n",
    "genes = genes.reset_index()\n",
    "\n",
    "fig,ax = render_mpl_table(genes.round(4), header_columns=0, col_width=6.0)\n",
    "\n",
    "plt.plot([0,1],[1-1/(genes.shape[0]+1),1-1/(genes.shape[0]+1)], c='black', lw=0.5)\n",
    "plt.xlim(0,1)\n",
    "plt.ylim(0,1)\n",
    "plt.savefig('M1genes_OnlyPhospho.pdf')"
   ]
  },
  {
   "cell_type": "code",
   "execution_count": null,
   "id": "03d3c340-8c9d-41cb-ac83-8604f5d28b3c",
   "metadata": {},
   "outputs": [],
   "source": [
    "overlap = pd.read_excel('M1_GO.xlsx', sheet_name=\"GO Process\")\n",
    "overlap = overlap.loc[overlap['Region'] == \"M1\"]\n",
    "\n",
    "venn2([set(overlap.loc[overlap['Type'] == 'Peptide', \"termID\"].dropna()), set(overlap.loc[overlap['Type'] == 'Phosphopeptide', \"termID\"].dropna())],\n",
    "      set_labels = ('Proteome', 'Phosphoproteome'),\n",
    "      set_colors=('red', 'blue'))\n",
    "\n",
    "plt.title(\"M1 GO Process\", size = 24)\n",
    "plt.tight_layout()\n",
    "plt.savefig('M1_GO Process.pdf', transparent = True, dpi = 300)\n",
    "plt.show()\n",
    "plt.clf()"
   ]
  },
  {
   "cell_type": "code",
   "execution_count": null,
   "id": "ab8c2826-121d-478e-906c-689dde892254",
   "metadata": {},
   "outputs": [],
   "source": [
    "list = set(overlap.loc[overlap['Type'] == 'Peptide', \"termID\"].dropna()) & set(overlap.loc[overlap['Type'] == 'Phosphopeptide', \"termID\"].dropna())\n",
    "\n",
    "list = overlap[overlap.termID.isin(list)].groupby(['termID','termdescription']).mean().sort_values(by=['strength'], ascending=False).round(6).head().reset_index()\n",
    "list = list.reset_index()\n",
    "list = list[['termdescription','observed gene count','strength','false discovery rate']]\n",
    "list.columns = ['Description', 'Gene Count', 'Strength', 'p-Value']\n",
    "\n",
    "fig,ax = render_mpl_table(list, header_columns=0, col_width=4.0)\n",
    "\n",
    "plt.plot([0,1],[1-1/(df.shape[0]+1),1-1/(df.shape[0]+1)], c='black', lw=0.5)\n",
    "plt.xlim(0,1)\n",
    "plt.ylim(0,1)\n",
    "plt.savefig('M1_GO_List.svg')"
   ]
  },
  {
   "cell_type": "code",
   "execution_count": null,
   "id": "3b888b6a-b18f-4f07-b6a6-5e766a779acf",
   "metadata": {},
   "outputs": [],
   "source": [
    "overlap = pd.read_excel('M1_GO.xlsx', sheet_name=\"GO Function\")\n",
    "overlap = overlap.loc[overlap['Region'] == \"M1\"]\n",
    "\n",
    "venn2([set(overlap.loc[overlap['Type'] == 'Peptide', \"termID\"].dropna()), set(overlap.loc[overlap['Type'] == 'Phosphopeptide', \"termID\"].dropna())],\n",
    "      set_labels = ('Proteome', 'Phosphoproteome'),\n",
    "      set_colors=('red', 'blue'))\n",
    "\n",
    "plt.title(\"M1 GO Function\", size = 24)\n",
    "plt.tight_layout()\n",
    "plt.savefig('M1_GO Function.pdf', transparent = True, dpi = 300)\n",
    "plt.show()\n",
    "plt.clf()"
   ]
  },
  {
   "cell_type": "code",
   "execution_count": null,
   "id": "87854dcc-ca72-46a0-a46c-247cea2a1b79",
   "metadata": {},
   "outputs": [],
   "source": [
    "list = set(overlap.loc[overlap['Type'] == 'Peptide', \"termID\"].dropna()) & set(overlap.loc[overlap['Type'] == 'Phosphopeptide', \"termID\"].dropna())\n",
    "\n",
    "list = overlap[overlap.termID.isin(list)].groupby(['termID','termdescription']).mean().sort_values(by=['strength'], ascending=False).round(8).head().reset_index()\n",
    "list = list.reset_index()\n",
    "list = list[['termdescription','observed gene count','strength','false discovery rate']]\n",
    "list.columns = ['Description', 'Gene Count', 'Strength', 'p-Value']\n",
    "\n",
    "fig,ax = render_mpl_table(list, header_columns=0, col_width=4.0)\n",
    "\n",
    "plt.plot([0,1],[1-1/(df.shape[0]+1),1-1/(df.shape[0]+1)], c='black', lw=0.5)\n",
    "plt.xlim(0,1)\n",
    "plt.ylim(0,1)\n",
    "plt.savefig('M1_GO_FXN_List.svg')"
   ]
  },
  {
   "cell_type": "code",
   "execution_count": null,
   "id": "c0334f06-2925-42e8-ba71-73f29abe36d4",
   "metadata": {},
   "outputs": [],
   "source": [
    "overlap = pd.read_excel('M1_GO.xlsx', sheet_name=\"KEGG\")\n",
    "overlap = overlap.loc[overlap['Region'] == \"M1\"]\n",
    "\n",
    "venn2([set(overlap.loc[overlap['Type'] == 'Peptide', \"termID\"].dropna()), set(overlap.loc[overlap['Type'] == 'Phosphopeptide', \"termID\"].dropna())],\n",
    "      set_labels = ('Proteome', 'Phosphoproteome'),\n",
    "      set_colors=('red', 'blue'))\n",
    "\n",
    "plt.title(\"M1 KEGG\", size = 24)\n",
    "plt.tight_layout()\n",
    "plt.savefig('M1_KEGG.pdf', transparent = True, dpi = 300)\n",
    "plt.show()\n",
    "plt.clf()"
   ]
  },
  {
   "cell_type": "code",
   "execution_count": null,
   "id": "956a7a59-78cd-442b-b5e0-8af6f668584b",
   "metadata": {},
   "outputs": [],
   "source": [
    "list = set(overlap.loc[overlap['Type'] == 'Peptide', \"termID\"].dropna()) & set(overlap.loc[overlap['Type'] == 'Phosphopeptide', \"termID\"].dropna())\n",
    "\n",
    "list = overlap[overlap.termID.isin(list)].groupby(['termID','termdescription']).mean().sort_values(by=['strength'], ascending=False).round(6).head().reset_index()\n",
    "list = list.reset_index()\n",
    "list = list[['termdescription','observed gene count','strength','false discovery rate']]\n",
    "list.columns = ['Description', 'Gene Count', 'Strength', 'p-Value']\n",
    "\n",
    "fig,ax = render_mpl_table(list, header_columns=0, col_width=4.0)\n",
    "\n",
    "plt.plot([0,1],[1-1/(df.shape[0]+1),1-1/(df.shape[0]+1)], c='black', lw=0.5)\n",
    "plt.xlim(0,1)\n",
    "plt.ylim(0,1)\n",
    "plt.savefig('M1_KEGG_List.svg')"
   ]
  },
  {
   "cell_type": "code",
   "execution_count": null,
   "id": "8ee12048-d003-4a20-b4b2-abbede4a8d30",
   "metadata": {},
   "outputs": [],
   "source": [
    "overlap = pd.read_excel('M1_GO.xlsx', sheet_name=\"Reactome\")\n",
    "\n",
    "venn2([set(overlap.loc[overlap['Type'] == 'Peptide', \"termID\"].dropna()), set(overlap.loc[overlap['Type'] == 'Phosphopeptide', \"termID\"].dropna())],\n",
    "      set_labels = ('Proteome', 'Phosphoproteome'),\n",
    "      set_colors=('red', 'blue'))\n",
    "\n",
    "plt.title(\"M1 Reactome\", size = 24)\n",
    "plt.tight_layout()\n",
    "plt.savefig('M1_Reactome.pdf', transparent = True, dpi = 300)\n",
    "plt.show()\n",
    "plt.clf()"
   ]
  },
  {
   "cell_type": "code",
   "execution_count": null,
   "id": "76cad883-dc5d-4e84-b60c-9faba5638e89",
   "metadata": {},
   "outputs": [],
   "source": [
    "list = set(overlap.loc[overlap['Type'] == 'Peptide', \"termID\"].dropna()) & set(overlap.loc[overlap['Type'] == 'Phosphopeptide', \"termID\"].dropna())\n",
    "\n",
    "list = overlap[overlap.termID.isin(list)].groupby(['termID','termdescription']).mean().sort_values(by=['strength'], ascending=False).round(6).head()\n",
    "list = list.reset_index()\n",
    "list = list[['termdescription','observed gene count','strength','false discovery rate']]\n",
    "list.columns = ['Description', 'Gene Count', 'Strength', 'p-Value']\n",
    "\n",
    "fig,ax = render_mpl_table(list, header_columns=0, col_width=4.0)\n",
    "\n",
    "plt.plot([0,1],[1-1/(df.shape[0]+1),1-1/(df.shape[0]+1)], c='black', lw=0.5)\n",
    "plt.xlim(0,1)\n",
    "plt.ylim(0,1)\n",
    "plt.savefig('M1_Reactome_List.svg')"
   ]
  },
  {
   "cell_type": "markdown",
   "id": "9903e2d2-f24c-4353-baa2-10db90f05d7b",
   "metadata": {
    "jp-MarkdownHeadingCollapsed": true,
    "tags": []
   },
   "source": [
    "# DMS"
   ]
  },
  {
   "cell_type": "code",
   "execution_count": null,
   "id": "3ca33686-8904-457b-a1e3-ec555aeb4ec7",
   "metadata": {},
   "outputs": [],
   "source": [
    "DMS_P = pd.read_excel('2020_10_155_Lumos_Atwood_Grecco_DMSset_Global_treatmentonly_ProteinSummary.xlsx', sheet_name='Cleaned')\n",
    "\n",
    "## Make a volcano plot\n",
    "\n",
    "AR_Pvalue = \"Abundance Ratio P-Value: (PME, DMS) / (PSE, DMS)\"\n",
    "AR_log2 = \"Abundance Ratio (log2): (PME, DMS) / (PSE, DMS)\"\n",
    "negativelogP = \"Negative log(AR p-Value)\"\n",
    "\n",
    "DMS_P.loc[DMS_P[AR_Pvalue] >= 0.05, 'Sig'] = \"Non-Significant\"\n",
    "DMS_P.loc[(DMS_P[AR_Pvalue] < 0.05) & (DMS_P[AR_log2] <= 0), 'Sig'] = \"Down-Regulated\"\n",
    "DMS_P.loc[(DMS_P[AR_Pvalue] < 0.05) & (DMS_P[AR_log2] > 0), 'Sig'] = \"Up-Regulated\"\n",
    "\n",
    "f, ax = plt.subplots(figsize=(10,8))\n",
    "sns.despine()\n",
    "\n",
    "sns.scatterplot(data = DMS_P, y = negativelogP, x = AR_log2,\n",
    "                hue = 'Sig', hue_order= ['Up-Regulated','Down-Regulated','Non-Significant'],\n",
    "                linewidth = 0.0)\n",
    "\n",
    "handles, labels = ax.get_legend_handles_labels()\n",
    "ax.legend(handles[:], labels[:], frameon=False, loc = \"upper right\")\n",
    "\n",
    "plt.title(\"DMS Proteomics\", size = 24)\n",
    "plt.ylabel('-log(P value)')\n",
    "plt.xlabel('Abundance Ratio (log2): PME/PSE')\n",
    "plt.ylim(-.3, 4)\n",
    "plt.xlim(-.81,.81)\n",
    "\n",
    "plt.vlines(x = 0, ymin = -0.2, ymax = 3.8, colors='Black', linestyles='dashed')\n",
    "plt.hlines(y = (DMS_P.loc[DMS_P['Sig'] == \"Non-Significant\", negativelogP].max()),\n",
    "           xmin = -.71, xmax = .71, colors='Black', linestyles='dashed')\n",
    "\n",
    "\n",
    "plt.savefig('DMS_Volcano_Protein.pdf', transparent = True, dpi = 300)\n",
    "plt.tight_layout()\n",
    "plt.show()\n",
    "plt.clf()"
   ]
  },
  {
   "cell_type": "code",
   "execution_count": null,
   "id": "b3a3c762-01cb-4048-8b3f-3b5fc0e1efa0",
   "metadata": {},
   "outputs": [],
   "source": [
    "DMS_P.shape"
   ]
  },
  {
   "cell_type": "code",
   "execution_count": null,
   "id": "67deab3e-6705-4052-ad0d-e909c07e7633",
   "metadata": {},
   "outputs": [],
   "source": [
    "len(DMS_P.loc[DMS_P['Sig'] == \"Up-Regulated\"])"
   ]
  },
  {
   "cell_type": "code",
   "execution_count": null,
   "id": "3162f284-1276-4bf4-a52b-606b7f505ebd",
   "metadata": {},
   "outputs": [],
   "source": [
    "len(DMS_P.loc[DMS_P['Sig'] == \"Down-Regulated\"])"
   ]
  },
  {
   "cell_type": "code",
   "execution_count": null,
   "id": "c04ffc73-38ad-4a60-83f6-a5bb4f86df03",
   "metadata": {},
   "outputs": [],
   "source": [
    "DMS_P = pd.read_excel('2020_10_155_Lumos_Atwood_Grecco_DMSset_Global_treatmentonly_ProteinSummary.xlsx', sheet_name='HeatMap')\n",
    "\n",
    "sns.clustermap(DMS_P.groupby([\"Sex\",\"Exposure\"]).mean().T, method='complete', robust = False, figsize=(10,20)).savefig(\"DMS_protein_cluster.pdf\")"
   ]
  },
  {
   "cell_type": "code",
   "execution_count": null,
   "id": "caa004ce-9e2e-4174-a1cd-ef775ca1c93b",
   "metadata": {},
   "outputs": [],
   "source": [
    "DMS_PP = pd.read_excel('2020_10_155_Lumos_Atwood_Grecco_DMSset_PhosphopeptideSummary.xlsx', sheet_name='Cleaned')\n",
    "\n",
    "## Make a volcano plot\n",
    "\n",
    "AR_Pvalue = \"Abundance Ratio P-Value: (PME, DMS) / (PSE, DMS)\"\n",
    "AR_log2 = \"Abundance Ratio (log2): (PME, DMS) / (PSE, DMS)\"\n",
    "negativelogP = \"Negative log(AR p-Value)\"\n",
    "\n",
    "DMS_PP.loc[DMS_PP[AR_Pvalue] >= 0.05, 'Sig'] = \"Non-Significant\"\n",
    "DMS_PP.loc[(DMS_PP[AR_Pvalue] < 0.05) & (DMS_PP[AR_log2] <= 0), 'Sig'] = \"Down-Regulated\"\n",
    "DMS_PP.loc[(DMS_PP[AR_Pvalue] < 0.05) & (DMS_PP[AR_log2] > 0), 'Sig'] = \"Up-Regulated\"\n",
    "\n",
    "f, ax = plt.subplots(figsize=(10,8))\n",
    "sns.despine()\n",
    "\n",
    "sns.scatterplot(data = DMS_PP, y = negativelogP, x = AR_log2,\n",
    "                hue = 'Sig', hue_order= ['Up-Regulated','Down-Regulated','Non-Significant'],\n",
    "                linewidth = 0.0)\n",
    "\n",
    "handles, labels = ax.get_legend_handles_labels()\n",
    "ax.legend(handles[:], labels[:], frameon=False, loc = \"upper right\")\n",
    "\n",
    "plt.title(\"DMS Phosphoproteomics\", size = 24)\n",
    "plt.ylabel('-log(P value)')\n",
    "plt.xlabel('Abundance Ratio (log2): PME/PSE')\n",
    "plt.ylim(-.3, 5)\n",
    "plt.xlim(-1.2,1.2)\n",
    "\n",
    "plt.vlines(x = 0, ymin = -0.2, ymax = 4.8, colors='Black', linestyles='dashed')\n",
    "plt.hlines(y = (DMS_PP.loc[DMS_PP['Sig'] == \"Non-Significant\", negativelogP].max()), xmin = -1.1, xmax = 1.1, colors='Black', linestyles='dashed')\n",
    "\n",
    "\n",
    "plt.savefig('DMS_Volcano_PHOSPOProtein.pdf', transparent = True, dpi = 300)\n",
    "plt.tight_layout()\n",
    "plt.show()\n",
    "plt.clf()"
   ]
  },
  {
   "cell_type": "code",
   "execution_count": null,
   "id": "7c005aae-3e14-447b-a5ff-44a05c1b1bf5",
   "metadata": {},
   "outputs": [],
   "source": [
    "DMS_PP.shape"
   ]
  },
  {
   "cell_type": "code",
   "execution_count": null,
   "id": "1bb55052-49ff-4513-a181-d8ecf937aa85",
   "metadata": {},
   "outputs": [],
   "source": [
    "len(DMS_PP.loc[DMS_PP['Sig'] != \"Non-Significant\"])"
   ]
  },
  {
   "cell_type": "code",
   "execution_count": null,
   "id": "d72b66ef-d11c-4abd-be06-184ad05d74fd",
   "metadata": {},
   "outputs": [],
   "source": [
    "DMS_PP = pd.read_excel('2020_10_155_Lumos_Atwood_Grecco_DMSset_PhosphopeptideSummary.xlsx', sheet_name='HeatMap')\n",
    "\n",
    "sns.clustermap(DMS_PP.groupby([\"Sex\",\"Exposure\"]).mean().T, method='complete', robust = False, figsize=(10,20)).savefig(\"DMS_PHOSPHOprotein_cluster.pdf\")"
   ]
  },
  {
   "cell_type": "markdown",
   "id": "5d6563e6-22a0-40f9-be66-19bbd069ff61",
   "metadata": {
    "jp-MarkdownHeadingCollapsed": true,
    "tags": []
   },
   "source": [
    "# DLS"
   ]
  },
  {
   "cell_type": "code",
   "execution_count": null,
   "id": "9c8c91b2-b8d9-48b4-adb3-9d2b6bc41932",
   "metadata": {},
   "outputs": [],
   "source": [
    "DLS_P = pd.read_excel('2020_10_155_Lumos_Atwood_Grecco_DLSset_Global_treatmentonly_ProteinSummary.xlsx', sheet_name='Cleaned')\n",
    "\n",
    "## Make a volcano plot\n",
    "\n",
    "AR_Pvalue = \"Abundance Ratio P-Value: (PME, DLS) / (PSE, DLS)\"\n",
    "AR_log2 = \"Abundance Ratio (log2): (PME, DLS) / (PSE, DLS)\"\n",
    "negativelogP = \"Negative log(AR p-Value)\"\n",
    "\n",
    "DLS_P.loc[DLS_P[AR_Pvalue] >= 0.05, 'Sig'] = \"Non-Significant\"\n",
    "DLS_P.loc[(DLS_P[AR_Pvalue] < 0.05) & (DLS_P[AR_log2] <= 0), 'Sig'] = \"Down-Regulated\"\n",
    "DLS_P.loc[(DLS_P[AR_Pvalue] < 0.05) & (DLS_P[AR_log2] > 0), 'Sig'] = \"Up-Regulated\"\n",
    "\n",
    "f, ax = plt.subplots(figsize=(10,8))\n",
    "sns.despine()\n",
    "\n",
    "sns.scatterplot(data = DLS_P, y = negativelogP, x = AR_log2,\n",
    "                hue = 'Sig', hue_order= ['Up-Regulated','Down-Regulated','Non-Significant'],\n",
    "                linewidth = 0.0)\n",
    "\n",
    "handles, labels = ax.get_legend_handles_labels()\n",
    "ax.legend(handles[:], labels[:], frameon=False, loc = \"upper right\")\n",
    "\n",
    "plt.title(\"DLS Proteomics\", size = 24)\n",
    "plt.ylabel('-log(P value)')\n",
    "plt.xlabel('Abundance Ratio (log2): PME/PSE')\n",
    "plt.ylim(-.3, 4)\n",
    "plt.xlim(-.81,.81)\n",
    "\n",
    "plt.vlines(x = 0, ymin = -0.2, ymax = 3.8, colors='Black', linestyles='dashed')\n",
    "plt.hlines(y = (DLS_P.loc[DLS_P['Sig'] == \"Non-Significant\", negativelogP].max()),\n",
    "           xmin = -.71, xmax = .71, colors='Black', linestyles='dashed')\n",
    "\n",
    "\n",
    "plt.savefig('DLS_Volcano_Protein.pdf', transparent = True, dpi = 300)\n",
    "plt.tight_layout()\n",
    "plt.show()\n",
    "plt.clf()"
   ]
  },
  {
   "cell_type": "code",
   "execution_count": null,
   "id": "be9dcafa-9037-4e7f-8b53-67edc8f87b17",
   "metadata": {},
   "outputs": [],
   "source": [
    "DLS_P.shape"
   ]
  },
  {
   "cell_type": "code",
   "execution_count": null,
   "id": "f8a86673-ef73-423b-9a3a-9341a2ca480a",
   "metadata": {},
   "outputs": [],
   "source": [
    "len(DLS_P.loc[DLS_P['Sig'] != \"Non-Significant\"])"
   ]
  },
  {
   "cell_type": "code",
   "execution_count": null,
   "id": "52c62886-3312-4341-ac64-067a4b5c9fd5",
   "metadata": {},
   "outputs": [],
   "source": [
    "DLS_P = pd.read_excel('2020_10_155_Lumos_Atwood_Grecco_DLSset_Global_treatmentonly_ProteinSummary.xlsx', sheet_name='HeatMap')\n",
    "\n",
    "sns.clustermap(DLS_P.groupby([\"Sex\",\"Exposure\"]).mean().T, method='complete', robust = False, figsize=(10,20)).savefig(\"DLS_protein_cluster.pdf\")"
   ]
  },
  {
   "cell_type": "code",
   "execution_count": null,
   "id": "de626bb7-68bc-4edf-a66a-7c9977502a7b",
   "metadata": {},
   "outputs": [],
   "source": [
    "DLS_PP = pd.read_excel('2020_10_155_Lumos_Atwood_Grecco_DLSset_PhosphopeptideSummary.xlsx', sheet_name='Cleaned')\n",
    "\n",
    "## Make a volcano plot\n",
    "\n",
    "AR_Pvalue = \"Abundance Ratio P-Value: (PME, DLS) / (PSE, DLS)\"\n",
    "AR_log2 = \"Abundance Ratio (log2): (PME, DLS) / (PSE, DLS)\"\n",
    "negativelogP = \"Negative log(AR p-Value)\"\n",
    "\n",
    "DLS_PP.loc[DLS_PP[AR_Pvalue] >= 0.05, 'Sig'] = \"Non-Significant\"\n",
    "DLS_PP.loc[(DLS_PP[AR_Pvalue] < 0.05) & (DLS_PP[AR_log2] <= 0), 'Sig'] = \"Down-Regulated\"\n",
    "DLS_PP.loc[(DLS_PP[AR_Pvalue] < 0.05) & (DLS_PP[AR_log2] > 0), 'Sig'] = \"Up-Regulated\"\n",
    "\n",
    "f, ax = plt.subplots(figsize=(10,8))\n",
    "sns.despine()\n",
    "\n",
    "sns.scatterplot(data = DLS_PP, y = negativelogP, x = AR_log2,\n",
    "                hue = 'Sig', hue_order= ['Up-Regulated','Down-Regulated','Non-Significant'],\n",
    "                linewidth = 0.0)\n",
    "\n",
    "handles, labels = ax.get_legend_handles_labels()\n",
    "ax.legend(handles[:], labels[:], frameon=False, loc = \"upper right\")\n",
    "\n",
    "plt.title(\"DLS Phosphoproteomics\", size = 24)\n",
    "plt.ylabel('-log(P value)')\n",
    "plt.xlabel('Abundance Ratio (log2): PME/PSE')\n",
    "plt.ylim(-.3, 5)\n",
    "plt.xlim(-1.5,2.0)\n",
    "\n",
    "plt.vlines(x = 0, ymin = -0.2, ymax = 4.8, colors='Black', linestyles='dashed')\n",
    "plt.hlines(y = (DLS_PP.loc[DLS_PP['Sig'] == \"Non-Significant\", negativelogP].max()), xmin = -1.4, xmax = 1.9, colors='Black', linestyles='dashed')\n",
    "\n",
    "\n",
    "plt.savefig('DLS_Volcano_PHOSPOProtein.pdf', transparent = True, dpi = 300)\n",
    "plt.tight_layout()\n",
    "plt.show()\n",
    "plt.clf()"
   ]
  },
  {
   "cell_type": "code",
   "execution_count": null,
   "id": "90c5cef4-0b65-446c-87fd-1f7768917c8b",
   "metadata": {},
   "outputs": [],
   "source": [
    "DLS_PP.shape"
   ]
  },
  {
   "cell_type": "code",
   "execution_count": null,
   "id": "003a332a-a027-47d7-b863-0a775d15d8be",
   "metadata": {},
   "outputs": [],
   "source": [
    "len(DLS_PP.loc[DLS_PP['Sig'] != \"Non-Significant\"])"
   ]
  },
  {
   "cell_type": "code",
   "execution_count": null,
   "id": "3f9b3f46-78e2-46bb-8965-c06182916b1c",
   "metadata": {},
   "outputs": [],
   "source": [
    "DLS_PP = pd.read_excel('2020_10_155_Lumos_Atwood_Grecco_DLSset_PhosphopeptideSummary.xlsx', sheet_name='HeatMap')\n",
    "\n",
    "sns.clustermap(DLS_PP.groupby([\"Sex\",\"Exposure\"]).mean().T, method='complete', robust = False, figsize=(10,20)).savefig(\"DLS_PHOSPHOprotein_cluster.pdf\")"
   ]
  },
  {
   "cell_type": "markdown",
   "id": "b1f07671-3270-4dcf-bd44-e3e546578825",
   "metadata": {
    "jp-MarkdownHeadingCollapsed": true,
    "tags": []
   },
   "source": [
    "# Somatosensory Cortex"
   ]
  },
  {
   "cell_type": "code",
   "execution_count": null,
   "id": "701d70bc-14d7-460f-b1e3-db5f4cf000cf",
   "metadata": {},
   "outputs": [],
   "source": [
    "S1_P = pd.read_excel('2020_10_155_Lumos_Atwood_Grecco_Sset_Global_treatmentonly_ProteinSummary.xlsx', sheet_name='Cleaned')\n",
    "\n",
    "## Make a volcano plot\n",
    "\n",
    "AR_Pvalue = \"Abundance Ratio P-Value: (PME, S1) / (PSE, S1)\"\n",
    "AR_log2 = \"Abundance Ratio (log2): (PME, S1) / (PSE, S1)\"\n",
    "negativelogP = \"Negative log(AR p-Value)\"\n",
    "\n",
    "S1_P.loc[S1_P[AR_Pvalue] >= 0.05, 'Sig'] = \"Non-Significant\"\n",
    "S1_P.loc[(S1_P[AR_Pvalue] < 0.05) & (S1_P[AR_log2] <= 0), 'Sig'] = \"Down-Regulated\"\n",
    "S1_P.loc[(S1_P[AR_Pvalue] < 0.05) & (S1_P[AR_log2] > 0), 'Sig'] = \"Up-Regulated\"\n",
    "\n",
    "f, ax = plt.subplots(figsize=(10,8))\n",
    "sns.despine()\n",
    "\n",
    "sns.scatterplot(data = S1_P, y = negativelogP, x = AR_log2,\n",
    "                hue = 'Sig', hue_order= ['Up-Regulated','Down-Regulated','Non-Significant'],\n",
    "                linewidth = 0.0)\n",
    "\n",
    "handles, labels = ax.get_legend_handles_labels()\n",
    "ax.legend(handles[:], labels[:], frameon=False, loc = \"upper right\")\n",
    "\n",
    "plt.title(\"S1 Proteomics\", size = 24)\n",
    "plt.ylabel('-log(P value)')\n",
    "plt.xlabel('Abundance Ratio (log2): PME/PSE')\n",
    "plt.ylim(-.3, 4)\n",
    "plt.xlim(-2.25,1.25)\n",
    "\n",
    "plt.vlines(x = 0, ymin = -0.2, ymax = 3.8, colors='Black', linestyles='dashed')\n",
    "plt.hlines(y = (S1_P.loc[S1_P['Sig'] == \"Non-Significant\", negativelogP].max()),\n",
    "           xmin = -2.15, xmax = 1.15, colors='Black', linestyles='dashed')\n",
    "\n",
    "\n",
    "plt.savefig('S1_Volcano_Protein.pdf', transparent = True, dpi = 300)\n",
    "plt.tight_layout()\n",
    "plt.show()\n",
    "plt.clf()"
   ]
  },
  {
   "cell_type": "code",
   "execution_count": null,
   "id": "5dcff1f3-8cfa-46d6-a86c-b9814862d9e6",
   "metadata": {},
   "outputs": [],
   "source": [
    "S1_P.shape"
   ]
  },
  {
   "cell_type": "code",
   "execution_count": null,
   "id": "a7aa46c0-ce12-4be5-8cb9-09466647d3ea",
   "metadata": {},
   "outputs": [],
   "source": [
    "len(S1_P.loc[S1_P['Sig'] != \"Non-Significant\"])"
   ]
  },
  {
   "cell_type": "code",
   "execution_count": null,
   "id": "189a3bf1-b959-48ad-b732-cb341a945458",
   "metadata": {},
   "outputs": [],
   "source": [
    "S1_P = pd.read_excel('2020_10_155_Lumos_Atwood_Grecco_Sset_Global_treatmentonly_ProteinSummary.xlsx', sheet_name='HeatMap')\n",
    "\n",
    "sns.clustermap(S1_P.groupby([\"Sex\",\"Exposure\"]).mean().T, method='complete', robust = False, figsize=(10,20)).savefig(\"S1_protein_cluster.pdf\")"
   ]
  },
  {
   "cell_type": "code",
   "execution_count": null,
   "id": "bdd760c6-7d9a-4cdf-94d2-5d9892b851cf",
   "metadata": {},
   "outputs": [],
   "source": [
    "S1_PP = pd.read_excel('2020_10_155_Lumos_Atwood_Grecco_Sset_PhosphopeptideSummary.xlsx', sheet_name='Cleaned')\n",
    "\n",
    "## Make a volcano plot\n",
    "\n",
    "AR_Pvalue = \"Abundance Ratio P-Value: (PME, S1) / (PSE, S1)\"\n",
    "AR_log2 = \"Abundance Ratio (log2): (PME, S1) / (PSE, S1)\"\n",
    "negativelogP = \"Negative log(AR p-Value)\"\n",
    "\n",
    "S1_PP.loc[S1_PP[AR_Pvalue] >= 0.05, 'Sig'] = \"Non-Significant\"\n",
    "S1_PP.loc[(S1_PP[AR_Pvalue] < 0.05) & (S1_PP[AR_log2] <= 0), 'Sig'] = \"Down-Regulated\"\n",
    "S1_PP.loc[(S1_PP[AR_Pvalue] < 0.05) & (S1_PP[AR_log2] > 0), 'Sig'] = \"Up-Regulated\"\n",
    "\n",
    "f, ax = plt.subplots(figsize=(10,8))\n",
    "sns.despine()\n",
    "\n",
    "sns.scatterplot(data = S1_PP, y = negativelogP, x = AR_log2,\n",
    "                hue = 'Sig', hue_order= ['Up-Regulated','Down-Regulated','Non-Significant'],\n",
    "                linewidth = 0.0)\n",
    "\n",
    "handles, labels = ax.get_legend_handles_labels()\n",
    "ax.legend(handles[:], labels[:], frameon=False, loc = \"upper right\")\n",
    "\n",
    "plt.title(\"S1 Phosphoproteomics\", size = 24)\n",
    "plt.ylabel('-log(P value)')\n",
    "plt.xlabel('Abundance Ratio (log2): PME/PSE')\n",
    "plt.ylim(-.3, 4)\n",
    "plt.xlim(-1.5,4.5)\n",
    "\n",
    "plt.vlines(x = 0, ymin = -0.2, ymax = 3.8, colors='Black', linestyles='dashed')\n",
    "plt.hlines(y = (S1_PP.loc[S1_PP['Sig'] == \"Non-Significant\", negativelogP].max()), xmin = -1.4, xmax = 4.4, colors='Black', linestyles='dashed')\n",
    "\n",
    "\n",
    "plt.savefig('S1_Volcano_PHOSPOProtein.pdf', transparent = True, dpi = 300)\n",
    "plt.tight_layout()\n",
    "plt.show()\n",
    "plt.clf()"
   ]
  },
  {
   "cell_type": "code",
   "execution_count": null,
   "id": "598846ca-1be7-4a1e-be00-03da83a6f5a8",
   "metadata": {},
   "outputs": [],
   "source": [
    "S1_PP.shape"
   ]
  },
  {
   "cell_type": "code",
   "execution_count": null,
   "id": "0da6dda1-cc56-4dd3-80cb-a563e84ca857",
   "metadata": {},
   "outputs": [],
   "source": [
    "len(S1_PP.loc[S1_PP['Sig'] != \"Non-Significant\"])"
   ]
  },
  {
   "cell_type": "code",
   "execution_count": null,
   "id": "efff5ce6-5d4a-4c26-baaa-c0cbea8f39e0",
   "metadata": {},
   "outputs": [],
   "source": [
    "S1_PP = pd.read_excel('2020_10_155_Lumos_Atwood_Grecco_Sset_PhosphopeptideSummary.xlsx', sheet_name='HeatMap')\n",
    "\n",
    "sns.clustermap(S1_PP.groupby([\"Sex\",\"Exposure\"]).mean().T, method='complete', robust = False, figsize=(10,20)).savefig(\"S1_PHOSPHOprotein_cluster.pdf\")"
   ]
  },
  {
   "cell_type": "markdown",
   "id": "59e3d964-3136-4166-a505-cc7620eb45ec",
   "metadata": {
    "jp-MarkdownHeadingCollapsed": true,
    "tags": []
   },
   "source": [
    "# Other Brain Regions v M1"
   ]
  },
  {
   "cell_type": "code",
   "execution_count": null,
   "id": "ff564eab-9a55-4bcb-aba7-402cff73faba",
   "metadata": {},
   "outputs": [],
   "source": [
    "overlap = pd.read_excel('M1_GO.xlsx', sheet_name=\"Gene Overlap\")\n",
    "overlap"
   ]
  },
  {
   "cell_type": "code",
   "execution_count": null,
   "id": "8cc163a5-40e2-47e7-a7d7-666a5d85c8f0",
   "metadata": {},
   "outputs": [],
   "source": [
    "Dict = {\n",
    "    \"M1\": set(overlap.loc[(overlap['Type'] == 'Peptide') & (overlap['Region'] == 'M1'), \"GeneID\"].dropna()),\n",
    "    \"DLS\": set(overlap.loc[(overlap['Type'] == 'Peptide') & (overlap['Region'] == 'DLS'), \"GeneID\"].dropna()),\n",
    "    \"DMS\": set(overlap.loc[(overlap['Type'] == 'Peptide') & (overlap['Region'] == 'DMS'), \"GeneID\"].dropna()),\n",
    "    \"S1\": set(overlap.loc[(overlap['Type'] == 'Peptide') & (overlap['Region'] == 'S1'), \"GeneID\"].dropna()),\n",
    "}"
   ]
  },
  {
   "cell_type": "code",
   "execution_count": null,
   "id": "ff484be9-5d89-419b-9194-053eabefc2e0",
   "metadata": {},
   "outputs": [],
   "source": [
    "overlap = pd.read_excel('M1_GO.xlsx', sheet_name=\"Gene Overlap\")\n",
    "\n",
    "f, ax = plt.subplots(figsize=(8,12))\n",
    "\n",
    "Dict = {\n",
    "    \"M1\": set(overlap.loc[(overlap['Type'] == 'Peptide') & (overlap['Region'] == 'M1'), \"GeneID\"].dropna()),\n",
    "    \"DLS\": set(overlap.loc[(overlap['Type'] == 'Peptide') & (overlap['Region'] == 'DLS'), \"GeneID\"].dropna()),\n",
    "    \"DMS\": set(overlap.loc[(overlap['Type'] == 'Peptide') & (overlap['Region'] == 'DMS'), \"GeneID\"].dropna()),\n",
    "    \"S1\": set(overlap.loc[(overlap['Type'] == 'Peptide') & (overlap['Region'] == 'S1'), \"GeneID\"].dropna()),\n",
    "}\n",
    "\n",
    "plt.title(\"Unique Proteins\")\n",
    "\n",
    "venn(Dict, ax = ax)\n",
    "\n",
    "plt.savefig('UniqueProteins.pdf', transparent = True, dpi = 300)\n",
    "plt.tight_layout()\n",
    "plt.show()\n",
    "plt.clf()"
   ]
  },
  {
   "cell_type": "code",
   "execution_count": null,
   "id": "c7190382-47d5-4359-b402-3ab071e4c14f",
   "metadata": {},
   "outputs": [],
   "source": [
    "list = (\n",
    "    set(overlap.loc[(overlap['Type'] == 'Peptide') & (overlap['Region'] == 'M1'), \"GeneID\"].dropna())\n",
    "    & set(overlap.loc[(overlap['Type'] == 'Peptide') & (overlap['Region'] == 'DLS'), \"GeneID\"].dropna())\n",
    "    & set(overlap.loc[(overlap['Type'] == 'Peptide') & (overlap['Region'] == 'DMS'), \"GeneID\"].dropna())\n",
    "    & set(overlap.loc[(overlap['Type'] == 'Peptide') & (overlap['Region'] == 'S1'), \"GeneID\"].dropna())\n",
    ")\n",
    "\n",
    "genes = overlap[overlap.GeneID.isin(list)].groupby(['GeneID']).mean().sort_values(by=['Abundance_Ratio_L2']).head()\n",
    "\n",
    "genes.columns = ['Abudance Ratio p-Value','Log2(Abudance Ratio)']\n",
    "\n",
    "genes = genes.reset_index()\n",
    "\n",
    "fig,ax = render_mpl_table(genes.round(4), header_columns=0, col_width=6.0)\n",
    "\n",
    "plt.plot([0,1],[1-1/(genes.shape[0]+1),1-1/(genes.shape[0]+1)], c='black', lw=0.5)\n",
    "plt.xlim(0,1)\n",
    "plt.ylim(0,1)\n",
    "plt.savefig('UniqueProteinOverlap.svg')"
   ]
  },
  {
   "cell_type": "code",
   "execution_count": null,
   "id": "333854e0-89f3-4294-83f3-f32bde99588b",
   "metadata": {},
   "outputs": [],
   "source": [
    "overlap = pd.read_excel('M1_GO.xlsx', sheet_name=\"Gene Overlap\")\n",
    "\n",
    "f, ax = plt.subplots(figsize=(8,12))\n",
    "\n",
    "Dict = {\n",
    "    \"M1\": set(overlap.loc[(overlap['Type'] == 'Peptide') & (overlap['Region'] == 'M1'), \"GeneID\"].dropna()),\n",
    "    \"DLS\": set(overlap.loc[(overlap['Type'] == 'Peptide') & (overlap['Region'] == 'DLS'), \"GeneID\"].dropna()),\n",
    "    \"DMS\": set(overlap.loc[(overlap['Type'] == 'Peptide') & (overlap['Region'] == 'DMS'), \"GeneID\"].dropna()),\n",
    "    \"S1\": set(overlap.loc[(overlap['Type'] == 'Peptide') & (overlap['Region'] == 'S1'), \"GeneID\"].dropna()),\n",
    "}\n",
    "\n",
    "plt.title(\"Unique Proteins\")\n",
    "\n",
    "venn(Dict, fmt=\"{percentage:.2f}%\", ax = ax)\n",
    "\n",
    "plt.savefig('UniqueProteinsPERCENT.pdf', transparent = True, dpi = 300)\n",
    "plt.tight_layout()\n",
    "plt.show()\n",
    "plt.clf()"
   ]
  },
  {
   "cell_type": "code",
   "execution_count": null,
   "id": "d3f9492c-4180-4f94-9d0d-2b028fd8a68f",
   "metadata": {},
   "outputs": [],
   "source": [
    "overlap = pd.read_excel('M1_GO.xlsx', sheet_name=\"Gene Overlap\")\n",
    "\n",
    "f, ax = plt.subplots(figsize=(8,12))\n",
    "\n",
    "Dict = {\n",
    "    \"M1\": set(overlap.loc[(overlap['Type'] == 'Phosphopeptide') & (overlap['Region'] == 'M1'), \"GeneID\"].dropna()),\n",
    "    \"DLS\": set(overlap.loc[(overlap['Type'] == 'Phosphopeptide') & (overlap['Region'] == 'DLS'), \"GeneID\"].dropna()),\n",
    "    \"DMS\": set(overlap.loc[(overlap['Type'] == 'Phosphopeptide') & (overlap['Region'] == 'DMS'), \"GeneID\"].dropna()),\n",
    "    \"S1\": set(overlap.loc[(overlap['Type'] == 'Phosphopeptide') & (overlap['Region'] == 'S1'), \"GeneID\"].dropna()),\n",
    "}\n",
    "\n",
    "plt.title(\"Unique Phosphorylated Proteins\")\n",
    "\n",
    "venn(Dict, ax = ax)\n",
    "\n",
    "plt.savefig('UniquePhosphoProteins.pdf', transparent = True, dpi = 300)\n",
    "plt.tight_layout()\n",
    "plt.show()\n",
    "plt.clf()"
   ]
  },
  {
   "cell_type": "code",
   "execution_count": null,
   "id": "c1f8ca59-599f-46ab-aa98-127833cbe24d",
   "metadata": {},
   "outputs": [],
   "source": [
    "list = (\n",
    "    set(overlap.loc[(overlap['Type'] == 'Phosphopeptide') & (overlap['Region'] == 'M1'), \"GeneID\"].dropna())\n",
    "    & set(overlap.loc[(overlap['Type'] == 'Phosphopeptide') & (overlap['Region'] == 'DLS'), \"GeneID\"].dropna())\n",
    "    & set(overlap.loc[(overlap['Type'] == 'Phosphopeptide') & (overlap['Region'] == 'DMS'), \"GeneID\"].dropna())\n",
    "    & set(overlap.loc[(overlap['Type'] == 'Phosphopeptide') & (overlap['Region'] == 'S1'), \"GeneID\"].dropna())\n",
    ")\n",
    "\n",
    "test1 = overlap[overlap.GeneID.isin(list)].groupby(['GeneID']).mean().sort_values(by=['Abundance_Ratio_L2']).head()\n",
    "test2 = overlap[overlap.GeneID.isin(list)].groupby(['GeneID']).mean().sort_values(by=['Abundance_Ratio_L2']).tail()\n",
    "\n",
    "genes = pd.concat([test1,test2])\n",
    "\n",
    "genes.columns = ['Abudance Ratio p-Value','Log2(Abudance Ratio)']\n",
    "\n",
    "genes = genes.reset_index()\n",
    "\n",
    "fig,ax = render_mpl_table(genes.round(4), header_columns=0, col_width=6.0)\n",
    "\n",
    "plt.plot([0,1],[1-1/(genes.shape[0]+1),1-1/(genes.shape[0]+1)], c='black', lw=0.5)\n",
    "plt.xlim(0,1)\n",
    "plt.ylim(0,1)\n",
    "plt.savefig('uniquephosphoproteinoverlap.svg')"
   ]
  },
  {
   "cell_type": "code",
   "execution_count": null,
   "id": "0742c5f1-8520-464f-a72c-0e399ebc50d7",
   "metadata": {},
   "outputs": [],
   "source": [
    "overlap = pd.read_excel('M1_GO.xlsx', sheet_name=\"Gene Overlap\")\n",
    "\n",
    "f, ax = plt.subplots(figsize=(8,12))\n",
    "\n",
    "Dict = {\n",
    "    \"M1\": set(overlap.loc[(overlap['Type'] == 'Phosphopeptide') & (overlap['Region'] == 'M1'), \"GeneID\"].dropna()),\n",
    "    \"DLS\": set(overlap.loc[(overlap['Type'] == 'Phosphopeptide') & (overlap['Region'] == 'DLS'), \"GeneID\"].dropna()),\n",
    "    \"DMS\": set(overlap.loc[(overlap['Type'] == 'Phosphopeptide') & (overlap['Region'] == 'DMS'), \"GeneID\"].dropna()),\n",
    "    \"S1\": set(overlap.loc[(overlap['Type'] == 'Phosphopeptide') & (overlap['Region'] == 'S1'), \"GeneID\"].dropna()),\n",
    "}\n",
    "\n",
    "plt.title(\"Unique Phosphorylated Proteins\")\n",
    "\n",
    "venn(Dict, fmt=\"{percentage:.2f}%\", ax = ax)\n",
    "\n",
    "plt.savefig('UniquePhosphoProteinsPERCENT.pdf', transparent = True, dpi = 300)\n",
    "plt.tight_layout()\n",
    "plt.show()\n",
    "plt.clf()"
   ]
  },
  {
   "cell_type": "markdown",
   "id": "6e8e7ee7-bff2-4684-9559-85fa7a4872cd",
   "metadata": {},
   "source": [
    "## GO Process"
   ]
  },
  {
   "cell_type": "code",
   "execution_count": null,
   "id": "c07a17d1-5659-4755-92a5-c0de450481e4",
   "metadata": {},
   "outputs": [],
   "source": [
    "overlap = pd.read_excel('M1_GO.xlsx', sheet_name=\"GO Process\")\n",
    "\n",
    "f, ax = plt.subplots(figsize=(8,12))\n",
    "\n",
    "Dict = {\n",
    "    \"M1\": set(overlap.loc[(overlap['Type'] == 'Peptide') & (overlap['Region'] == 'M1'), \"termID\"].dropna()),\n",
    "    \"DLS\": set(overlap.loc[(overlap['Type'] == 'Peptide') & (overlap['Region'] == 'DLS'), \"termID\"].dropna()),\n",
    "    \"DMS\": set(overlap.loc[(overlap['Type'] == 'Peptide') & (overlap['Region'] == 'DMS'), \"termID\"].dropna()),\n",
    "    \"S1\": set(overlap.loc[(overlap['Type'] == 'Peptide') & (overlap['Region'] == 'S1'), \"termID\"].dropna()),\n",
    "}\n",
    "\n",
    "plt.title(\"Protein: GO Process\")\n",
    "\n",
    "#venn(Dict, ax = ax)\n",
    "venn(Dict, fmt=\"{percentage:.2f}%\", ax = ax)\n",
    "\n",
    "plt.savefig('UniqueGOProcessPERCENT.pdf', transparent = True, dpi = 300)\n",
    "plt.tight_layout()\n",
    "plt.show()\n",
    "plt.clf()"
   ]
  },
  {
   "cell_type": "code",
   "execution_count": null,
   "id": "c500aa10-dc87-4925-9482-67d032d3b4c4",
   "metadata": {},
   "outputs": [],
   "source": [
    "list = (\n",
    "    set(overlap.loc[(overlap['Type'] == 'Peptide') & (overlap['Region'] == 'M1'), \"termID\"].dropna())\n",
    "    & set(overlap.loc[(overlap['Type'] == 'Peptide') & (overlap['Region'] == 'DLS'), \"termID\"].dropna())\n",
    "    & set(overlap.loc[(overlap['Type'] == 'Peptide') & (overlap['Region'] == 'DMS'), \"termID\"].dropna())\n",
    "    & set(overlap.loc[(overlap['Type'] == 'Peptide') & (overlap['Region'] == 'S1'), \"termID\"].dropna())\n",
    ")\n",
    "\n",
    "list = overlap[overlap.termID.isin(list)].groupby(['termID','termdescription']).mean().sort_values(by=['strength'], ascending=False).round(6).head()\n",
    "list = list.reset_index()\n",
    "list = list[['termdescription','observed gene count','strength','false discovery rate']]\n",
    "list.columns = ['Description', 'Gene Count', 'Strength', 'p-Value']\n",
    "\n",
    "list\n",
    "\n",
    "fig,ax = render_mpl_table(list, header_columns=0, col_width=4.0)\n",
    "\n",
    "plt.plot([0,1],[1-1/(list.shape[0]+1),1-1/(list.shape[0]+1)], c='black', lw=0.5)\n",
    "plt.xlim(0,1)\n",
    "plt.ylim(0,1)\n",
    "plt.savefig('Global_Protein_GO_process.svg')"
   ]
  },
  {
   "cell_type": "code",
   "execution_count": null,
   "id": "8d8b6c36-c852-4eab-a4b5-e8e64a2d2be7",
   "metadata": {},
   "outputs": [],
   "source": [
    "Not_M1 = (\n",
    "    set(overlap.loc[(overlap['Type'] == 'Peptide') & (overlap['Region'] == 'DLS'), \"termID\"].dropna())\n",
    "    & set(overlap.loc[(overlap['Type'] == 'Peptide') & (overlap['Region'] == 'DMS'), \"termID\"].dropna())\n",
    "    & set(overlap.loc[(overlap['Type'] == 'Peptide') & (overlap['Region'] == 'S1'), \"termID\"].dropna())\n",
    ")\n",
    "\n",
    "Not_M1"
   ]
  },
  {
   "cell_type": "code",
   "execution_count": null,
   "id": "c11e0bae-b85a-4e69-b4f3-47e996b6a92a",
   "metadata": {},
   "outputs": [],
   "source": [
    "from collections import Counter\n",
    "import math\n",
    "\n",
    "Not_M1 = (\n",
    "    set(overlap.loc[(overlap['Type'] == 'Peptide') & (overlap['Region'] == 'DLS'), \"termID\"].dropna())\n",
    "    & set(overlap.loc[(overlap['Type'] == 'Peptide') & (overlap['Region'] == 'DMS'), \"termID\"].dropna())\n",
    "    & set(overlap.loc[(overlap['Type'] == 'Peptide') & (overlap['Region'] == 'S1'), \"termID\"].dropna())\n",
    ")\n",
    "\n",
    "M1 = set(overlap.loc[(overlap['Type'] == 'Peptide') & (overlap['Region'] == 'M1'), \"termID\"].dropna())\n",
    "\n",
    "M1 = Counter(M1)\n",
    "Not_M1 = Counter(Not_M1)\n",
    "\n",
    "def counter_cosine_similarity(c1, c2):\n",
    "    terms = set(c1).union(c2)\n",
    "    dotprod = sum(c1.get(k, 0) * c2.get(k, 0) for k in terms)\n",
    "    magA = math.sqrt(sum(c1.get(k, 0)**2 for k in terms))\n",
    "    magB = math.sqrt(sum(c2.get(k, 0)**2 for k in terms))\n",
    "    return dotprod / (magA * magB)\n",
    "\n",
    "counter_cosine_similarity(M1, Not_M1)"
   ]
  },
  {
   "cell_type": "code",
   "execution_count": null,
   "id": "92414ec2-05f5-47d1-8961-c7db364a7e0d",
   "metadata": {},
   "outputs": [],
   "source": [
    "overlap = pd.read_excel('M1_GO.xlsx', sheet_name=\"GO Process\")\n",
    "\n",
    "f, ax = plt.subplots(figsize=(8,12))\n",
    "\n",
    "Dict = {\n",
    "    \"M1\": set(overlap.loc[(overlap['Type'] == 'Phosphopeptide') & (overlap['Region'] == 'M1'), \"termID\"].dropna()),\n",
    "    \"DLS\": set(overlap.loc[(overlap['Type'] == 'Phosphopeptide') & (overlap['Region'] == 'DLS'), \"termID\"].dropna()),\n",
    "    \"DMS\": set(overlap.loc[(overlap['Type'] == 'Phosphopeptide') & (overlap['Region'] == 'DMS'), \"termID\"].dropna()),\n",
    "    \"S1\": set(overlap.loc[(overlap['Type'] == 'Phosphopeptide') & (overlap['Region'] == 'S1'), \"termID\"].dropna()),\n",
    "}\n",
    "\n",
    "plt.title(\"Phosphorylated Protein: GO Process\")\n",
    "\n",
    "#venn(Dict, ax = ax)\n",
    "venn(Dict, fmt=\"{percentage:.2f}%\", ax = ax)\n",
    "\n",
    "plt.savefig('UniquePhosphoGOProcessPERCENT.pdf', transparent = True, dpi = 300)\n",
    "plt.tight_layout()\n",
    "plt.show()\n",
    "plt.clf()"
   ]
  },
  {
   "cell_type": "code",
   "execution_count": null,
   "id": "673dd59a-8c23-48bb-afef-cc7f66a03033",
   "metadata": {},
   "outputs": [],
   "source": [
    "list = (\n",
    "    set(overlap.loc[(overlap['Type'] == 'Phosphopeptide') & (overlap['Region'] == 'M1'), \"termID\"].dropna())\n",
    "    & set(overlap.loc[(overlap['Type'] == 'Phosphopeptide') & (overlap['Region'] == 'DLS'), \"termID\"].dropna())\n",
    "    & set(overlap.loc[(overlap['Type'] == 'Phosphopeptide') & (overlap['Region'] == 'DMS'), \"termID\"].dropna())\n",
    "    & set(overlap.loc[(overlap['Type'] == 'Phosphopeptide') & (overlap['Region'] == 'S1'), \"termID\"].dropna())\n",
    ")\n",
    "\n",
    "list = overlap[overlap.termID.isin(list)].groupby(['termID','termdescription']).mean().sort_values(by=['strength'], ascending=False).round(6).head()\n",
    "list = list.reset_index()\n",
    "list = list[['termdescription','observed gene count','strength','false discovery rate']]\n",
    "list.columns = ['Description', 'Gene Count', 'Strength', 'p-Value']\n",
    "\n",
    "list\n",
    "\n",
    "fig,ax = render_mpl_table(list, header_columns=0, col_width=4.0)\n",
    "\n",
    "plt.plot([0,1],[1-1/(list.shape[0]+1),1-1/(list.shape[0]+1)], c='black', lw=0.5)\n",
    "plt.xlim(0,1)\n",
    "plt.ylim(0,1)\n",
    "plt.savefig('Global_PhospoProtein_GO_process.svg')"
   ]
  },
  {
   "cell_type": "code",
   "execution_count": null,
   "id": "8a7ac8ed-187c-407d-8cc8-027a34f73528",
   "metadata": {},
   "outputs": [],
   "source": [
    "from collections import Counter\n",
    "import math\n",
    "\n",
    "Not_M1 = (\n",
    "    set(overlap.loc[(overlap['Type'] == 'Phosphopeptide') & (overlap['Region'] == 'DLS'), \"termID\"].dropna())\n",
    "    & set(overlap.loc[(overlap['Type'] == 'Phosphopeptide') & (overlap['Region'] == 'DMS'), \"termID\"].dropna())\n",
    "    & set(overlap.loc[(overlap['Type'] == 'Phosphopeptide') & (overlap['Region'] == 'S1'), \"termID\"].dropna())\n",
    ")\n",
    "\n",
    "M1 = set(overlap.loc[(overlap['Type'] == 'Phosphopeptide') & (overlap['Region'] == 'M1'), \"termID\"].dropna())\n",
    "\n",
    "M1 = Counter(M1)\n",
    "Not_M1 = Counter(Not_M1)\n",
    "\n",
    "def counter_cosine_similarity(c1, c2):\n",
    "    terms = set(c1).union(c2)\n",
    "    dotprod = sum(c1.get(k, 0) * c2.get(k, 0) for k in terms)\n",
    "    magA = math.sqrt(sum(c1.get(k, 0)**2 for k in terms))\n",
    "    magB = math.sqrt(sum(c2.get(k, 0)**2 for k in terms))\n",
    "    return dotprod / (magA * magB)\n",
    "\n",
    "counter_cosine_similarity(M1, Not_M1)"
   ]
  },
  {
   "cell_type": "markdown",
   "id": "5c52a2eb-27c2-45fc-9d29-f7c60de708e4",
   "metadata": {},
   "source": [
    "## GO Fxn"
   ]
  },
  {
   "cell_type": "code",
   "execution_count": null,
   "id": "9d771f29-6047-4244-9bc8-f803461a0ef4",
   "metadata": {},
   "outputs": [],
   "source": [
    "overlap = pd.read_excel('M1_GO.xlsx', sheet_name=\"GO Function\")\n",
    "\n",
    "f, ax = plt.subplots(figsize=(8,12))\n",
    "\n",
    "Dict = {\n",
    "    \"M1\": set(overlap.loc[(overlap['Type'] == 'Peptide') & (overlap['Region'] == 'M1'), \"termID\"].dropna()),\n",
    "    \"DLS\": set(overlap.loc[(overlap['Type'] == 'Peptide') & (overlap['Region'] == 'DLS'), \"termID\"].dropna()),\n",
    "    \"DMS\": set(overlap.loc[(overlap['Type'] == 'Peptide') & (overlap['Region'] == 'DMS'), \"termID\"].dropna()),\n",
    "    \"S1\": set(overlap.loc[(overlap['Type'] == 'Peptide') & (overlap['Region'] == 'S1'), \"termID\"].dropna()),\n",
    "}\n",
    "\n",
    "plt.title(\"Protein: GO Function\")\n",
    "\n",
    "#venn(Dict, ax = ax)\n",
    "venn(Dict, fmt=\"{percentage:.2f}%\", ax = ax)\n",
    "\n",
    "plt.savefig('UniqueGOFxnPERCENT.pdf', transparent = True, dpi = 300)\n",
    "plt.tight_layout()\n",
    "plt.show()\n",
    "plt.clf()"
   ]
  },
  {
   "cell_type": "code",
   "execution_count": null,
   "id": "6283a805-ecbf-4f4a-8f6d-d142c0ff4246",
   "metadata": {},
   "outputs": [],
   "source": [
    "list = (\n",
    "    set(overlap.loc[(overlap['Type'] == 'Peptide') & (overlap['Region'] == 'M1'), \"termID\"].dropna())\n",
    "    & set(overlap.loc[(overlap['Type'] == 'Peptide') & (overlap['Region'] == 'DLS'), \"termID\"].dropna())\n",
    "    & set(overlap.loc[(overlap['Type'] == 'Peptide') & (overlap['Region'] == 'DMS'), \"termID\"].dropna())\n",
    "    & set(overlap.loc[(overlap['Type'] == 'Peptide') & (overlap['Region'] == 'S1'), \"termID\"].dropna())\n",
    ")\n",
    "\n",
    "list = overlap[overlap.termID.isin(list)].groupby(['termID','termdescription']).mean().sort_values(by=['strength'], ascending=False).round(6).head()\n",
    "list = list.reset_index()\n",
    "list = list[['termdescription','observed gene count','strength','false discovery rate']]\n",
    "list.columns = ['Description', 'Gene Count', 'Strength', 'p-Value']\n",
    "\n",
    "list\n",
    "\n",
    "fig,ax = render_mpl_table(list, header_columns=0, col_width=4.0)\n",
    "\n",
    "plt.plot([0,1],[1-1/(list.shape[0]+1),1-1/(list.shape[0]+1)], c='black', lw=0.5)\n",
    "plt.xlim(0,1)\n",
    "plt.ylim(0,1)\n",
    "plt.savefig('Global_Protein_GO_Fxn.svg')"
   ]
  },
  {
   "cell_type": "code",
   "execution_count": null,
   "id": "349963bc-91a6-4564-b794-61b139bfb7e0",
   "metadata": {},
   "outputs": [],
   "source": [
    "from collections import Counter\n",
    "import math\n",
    "\n",
    "Not_M1 = (\n",
    "    set(overlap.loc[(overlap['Type'] == 'Peptide') & (overlap['Region'] == 'DLS'), \"termID\"].dropna())\n",
    "    & set(overlap.loc[(overlap['Type'] == 'Peptide') & (overlap['Region'] == 'DMS'), \"termID\"].dropna())\n",
    "    & set(overlap.loc[(overlap['Type'] == 'Peptide') & (overlap['Region'] == 'S1'), \"termID\"].dropna())\n",
    ")\n",
    "\n",
    "M1 = set(overlap.loc[(overlap['Type'] == 'Peptide') & (overlap['Region'] == 'M1'), \"termID\"].dropna())\n",
    "\n",
    "M1 = Counter(M1)\n",
    "Not_M1 = Counter(Not_M1)\n",
    "\n",
    "def counter_cosine_similarity(c1, c2):\n",
    "    terms = set(c1).union(c2)\n",
    "    dotprod = sum(c1.get(k, 0) * c2.get(k, 0) for k in terms)\n",
    "    magA = math.sqrt(sum(c1.get(k, 0)**2 for k in terms))\n",
    "    magB = math.sqrt(sum(c2.get(k, 0)**2 for k in terms))\n",
    "    return dotprod / (magA * magB)\n",
    "\n",
    "counter_cosine_similarity(M1, Not_M1)"
   ]
  },
  {
   "cell_type": "code",
   "execution_count": null,
   "id": "c0cf6ce2-cc73-417b-a0f1-78b5c8256791",
   "metadata": {},
   "outputs": [],
   "source": [
    "overlap = pd.read_excel('M1_GO.xlsx', sheet_name=\"GO Function\")\n",
    "\n",
    "f, ax = plt.subplots(figsize=(8,12))\n",
    "\n",
    "Dict = {\n",
    "    \"M1\": set(overlap.loc[(overlap['Type'] == 'Phosphopeptide') & (overlap['Region'] == 'M1'), \"termID\"].dropna()),\n",
    "    \"DLS\": set(overlap.loc[(overlap['Type'] == 'Phosphopeptide') & (overlap['Region'] == 'DLS'), \"termID\"].dropna()),\n",
    "    \"DMS\": set(overlap.loc[(overlap['Type'] == 'Phosphopeptide') & (overlap['Region'] == 'DMS'), \"termID\"].dropna()),\n",
    "    \"S1\": set(overlap.loc[(overlap['Type'] == 'Phosphopeptide') & (overlap['Region'] == 'S1'), \"termID\"].dropna()),\n",
    "}\n",
    "\n",
    "plt.title(\"Phosphorylated Protein: GO Function\")\n",
    "\n",
    "#venn(Dict, ax = ax)\n",
    "venn(Dict, fmt=\"{percentage:.2f}%\", ax = ax)\n",
    "\n",
    "plt.savefig('UniquePhosphoGOFxnPERCENT.pdf', transparent = True, dpi = 300)\n",
    "plt.tight_layout()\n",
    "plt.show()\n",
    "plt.clf()"
   ]
  },
  {
   "cell_type": "code",
   "execution_count": null,
   "id": "decf235f-ee11-46ff-9c75-4e48ea630a1f",
   "metadata": {},
   "outputs": [],
   "source": [
    "list = (\n",
    "    set(overlap.loc[(overlap['Type'] == 'Phosphopeptide') & (overlap['Region'] == 'M1'), \"termID\"].dropna())\n",
    "    & set(overlap.loc[(overlap['Type'] == 'Phosphopeptide') & (overlap['Region'] == 'DLS'), \"termID\"].dropna())\n",
    "    & set(overlap.loc[(overlap['Type'] == 'Phosphopeptide') & (overlap['Region'] == 'DMS'), \"termID\"].dropna())\n",
    "    & set(overlap.loc[(overlap['Type'] == 'Phosphopeptide') & (overlap['Region'] == 'S1'), \"termID\"].dropna())\n",
    ")\n",
    "\n",
    "list = overlap[overlap.termID.isin(list)].groupby(['termID','termdescription']).mean().sort_values(by=['strength'], ascending=False).round(6).head()\n",
    "list = list.reset_index()\n",
    "list = list[['termdescription','observed gene count','strength','false discovery rate']]\n",
    "list.columns = ['Description', 'Gene Count', 'Strength', 'p-Value']\n",
    "\n",
    "list\n",
    "\n",
    "fig,ax = render_mpl_table(list, header_columns=0, col_width=4.0)\n",
    "\n",
    "plt.plot([0,1],[1-1/(list.shape[0]+1),1-1/(list.shape[0]+1)], c='black', lw=0.5)\n",
    "plt.xlim(0,1)\n",
    "plt.ylim(0,1)\n",
    "plt.savefig('Global_PhospoProtein_GO_Fxn.svg')"
   ]
  },
  {
   "cell_type": "code",
   "execution_count": null,
   "id": "4c7b5f4d-f18e-4dc8-a182-a066b6cc5026",
   "metadata": {},
   "outputs": [],
   "source": [
    "from collections import Counter\n",
    "import math\n",
    "\n",
    "Not_M1 = (\n",
    "    set(overlap.loc[(overlap['Type'] == 'Phosphopeptide') & (overlap['Region'] == 'DLS'), \"termID\"].dropna())\n",
    "    & set(overlap.loc[(overlap['Type'] == 'Phosphopeptide') & (overlap['Region'] == 'DMS'), \"termID\"].dropna())\n",
    "    & set(overlap.loc[(overlap['Type'] == 'Phosphopeptide') & (overlap['Region'] == 'S1'), \"termID\"].dropna())\n",
    ")\n",
    "\n",
    "M1 = set(overlap.loc[(overlap['Type'] == 'Phosphopeptide') & (overlap['Region'] == 'M1'), \"termID\"].dropna())\n",
    "\n",
    "M1 = Counter(M1)\n",
    "Not_M1 = Counter(Not_M1)\n",
    "\n",
    "def counter_cosine_similarity(c1, c2):\n",
    "    terms = set(c1).union(c2)\n",
    "    dotprod = sum(c1.get(k, 0) * c2.get(k, 0) for k in terms)\n",
    "    magA = math.sqrt(sum(c1.get(k, 0)**2 for k in terms))\n",
    "    magB = math.sqrt(sum(c2.get(k, 0)**2 for k in terms))\n",
    "    return dotprod / (magA * magB)\n",
    "\n",
    "counter_cosine_similarity(M1, Not_M1)"
   ]
  },
  {
   "cell_type": "markdown",
   "id": "40a53211-6d1c-4b07-94c3-589c113e162f",
   "metadata": {},
   "source": [
    "## KEGG"
   ]
  },
  {
   "cell_type": "code",
   "execution_count": null,
   "id": "c349ebed-2be2-4ff4-b30f-fea345584177",
   "metadata": {},
   "outputs": [],
   "source": [
    "overlap = pd.read_excel('M1_GO.xlsx', sheet_name=\"KEGG\")\n",
    "\n",
    "f, ax = plt.subplots(figsize=(8,12))\n",
    "\n",
    "Dict = {\n",
    "    \"M1\": set(overlap.loc[(overlap['Type'] == 'Peptide') & (overlap['Region'] == 'M1'), \"termID\"].dropna()),\n",
    "    \"DLS\": set(overlap.loc[(overlap['Type'] == 'Peptide') & (overlap['Region'] == 'DLS'), \"termID\"].dropna()),\n",
    "    \"DMS\": set(overlap.loc[(overlap['Type'] == 'Peptide') & (overlap['Region'] == 'DMS'), \"termID\"].dropna()),\n",
    "    #\"S1\": set(overlap.loc[(overlap['Type'] == 'Peptide') & (overlap['Region'] == 'S1'), \"termID\"].dropna()),   \n",
    "}\n",
    "\n",
    "plt.title(\"Protein: KEGG\")\n",
    "\n",
    "#venn(Dict, ax = ax)\n",
    "venn(Dict, fmt=\"{percentage:.2f}%\", ax = ax)\n",
    "\n",
    "#plt.savefig('UniqueKEGGPERCENT.pdf', transparent = True, dpi = 300)\n",
    "plt.tight_layout()\n",
    "plt.show()\n",
    "plt.clf()"
   ]
  },
  {
   "cell_type": "code",
   "execution_count": null,
   "id": "47fe9f9f-52d1-448d-b9d5-6901c5233ad5",
   "metadata": {},
   "outputs": [],
   "source": [
    "list = (\n",
    "    set(overlap.loc[(overlap['Type'] == 'Peptide') & (overlap['Region'] == 'M1'), \"termID\"].dropna())\n",
    "    & set(overlap.loc[(overlap['Type'] == 'Peptide') & (overlap['Region'] == 'DLS'), \"termID\"].dropna())\n",
    "    & set(overlap.loc[(overlap['Type'] == 'Peptide') & (overlap['Region'] == 'DMS'), \"termID\"].dropna())\n",
    ")\n",
    "\n",
    "list = overlap[overlap.termID.isin(list)].groupby(['termID','termdescription']).mean().sort_values(by=['strength'], ascending=False).round(6).head()\n",
    "list = list.reset_index()\n",
    "list = list[['termdescription','observed gene count','strength','false discovery rate']]\n",
    "list.columns = ['Description', 'Gene Count', 'Strength', 'p-Value']\n",
    "\n",
    "list\n",
    "\n",
    "fig,ax = render_mpl_table(list, header_columns=0, col_width=4.0)\n",
    "\n",
    "plt.plot([0,1],[1-1/(list.shape[0]+1),1-1/(list.shape[0]+1)], c='black', lw=0.5)\n",
    "plt.xlim(0,1)\n",
    "plt.ylim(0,1)\n",
    "plt.savefig('Global_Protein_KEGG.svg')"
   ]
  },
  {
   "cell_type": "code",
   "execution_count": null,
   "id": "636d249a-e2ba-48ba-8df5-8e970f55d995",
   "metadata": {},
   "outputs": [],
   "source": [
    "from collections import Counter\n",
    "import math\n",
    "\n",
    "Not_M1 = (\n",
    "    set(overlap.loc[(overlap['Type'] == 'Peptide') & (overlap['Region'] == 'DLS'), \"termID\"].dropna())\n",
    "    & set(overlap.loc[(overlap['Type'] == 'Peptide') & (overlap['Region'] == 'DMS'), \"termID\"].dropna())\n",
    "    #& set(overlap.loc[(overlap['Type'] == 'Peptide') & (overlap['Region'] == 'S1'), \"termID\"].dropna())\n",
    ")\n",
    "\n",
    "M1 = set(overlap.loc[(overlap['Type'] == 'Peptide') & (overlap['Region'] == 'M1'), \"termID\"].dropna())\n",
    "\n",
    "M1 = Counter(M1)\n",
    "Not_M1 = Counter(Not_M1)\n",
    "\n",
    "def counter_cosine_similarity(c1, c2):\n",
    "    terms = set(c1).union(c2)\n",
    "    dotprod = sum(c1.get(k, 0) * c2.get(k, 0) for k in terms)\n",
    "    magA = math.sqrt(sum(c1.get(k, 0)**2 for k in terms))\n",
    "    magB = math.sqrt(sum(c2.get(k, 0)**2 for k in terms))\n",
    "    return dotprod / (magA * magB)\n",
    "\n",
    "counter_cosine_similarity(M1, Not_M1)"
   ]
  },
  {
   "cell_type": "code",
   "execution_count": null,
   "id": "aaf0a9a9-0beb-4d31-a65b-f6a9c2c14218",
   "metadata": {},
   "outputs": [],
   "source": [
    "overlap = pd.read_excel('M1_GO.xlsx', sheet_name=\"KEGG\")\n",
    "\n",
    "f, ax = plt.subplots(figsize=(8,12))\n",
    "\n",
    "Dict = {\n",
    "    \"M1\": set(overlap.loc[(overlap['Type'] == 'Phosphopeptide') & (overlap['Region'] == 'M1'), \"termID\"].dropna()),\n",
    "    \"DLS\": set(overlap.loc[(overlap['Type'] == 'Phosphopeptide') & (overlap['Region'] == 'DLS'), \"termID\"].dropna()),\n",
    "    \"DMS\": set(overlap.loc[(overlap['Type'] == 'Phosphopeptide') & (overlap['Region'] == 'DMS'), \"termID\"].dropna()),\n",
    "    \"S1\": set(overlap.loc[(overlap['Type'] == 'Phosphopeptide') & (overlap['Region'] == 'S1'), \"termID\"].dropna()),\n",
    "}\n",
    "\n",
    "plt.title(\"Phosphorylated Protein: KEGG\")\n",
    "\n",
    "#venn(Dict, ax = ax)\n",
    "venn(Dict, fmt=\"{percentage:.2f}%\", ax = ax)\n",
    "\n",
    "plt.savefig('UniquePhosphoKEGGPERCENT.pdf', transparent = True, dpi = 300)\n",
    "plt.tight_layout()\n",
    "plt.show()\n",
    "plt.clf()"
   ]
  },
  {
   "cell_type": "code",
   "execution_count": null,
   "id": "51750519-cef8-4bdf-bf39-542cca09711d",
   "metadata": {},
   "outputs": [],
   "source": [
    "list = (\n",
    "    set(overlap.loc[(overlap['Type'] == 'Phosphopeptide') & (overlap['Region'] == 'M1'), \"termID\"].dropna())\n",
    "    & set(overlap.loc[(overlap['Type'] == 'Phosphopeptide') & (overlap['Region'] == 'DLS'), \"termID\"].dropna())\n",
    "    & set(overlap.loc[(overlap['Type'] == 'Phosphopeptide') & (overlap['Region'] == 'DMS'), \"termID\"].dropna())\n",
    "    & set(overlap.loc[(overlap['Type'] == 'Phosphopeptide') & (overlap['Region'] == 'S1'), \"termID\"].dropna())\n",
    ")\n",
    "\n",
    "list = overlap[overlap.termID.isin(list)].groupby(['termID','termdescription']).mean().sort_values(by=['strength'], ascending=False).round(6).head()\n",
    "list = list.reset_index()\n",
    "list = list[['termdescription','observed gene count','strength','false discovery rate']]\n",
    "list.columns = ['Description', 'Gene Count', 'Strength', 'p-Value']\n",
    "\n",
    "list\n",
    "\n",
    "fig,ax = render_mpl_table(list, header_columns=0, col_width=4.0)\n",
    "\n",
    "plt.plot([0,1],[1-1/(list.shape[0]+1),1-1/(list.shape[0]+1)], c='black', lw=0.5)\n",
    "plt.xlim(0,1)\n",
    "plt.ylim(0,1)\n",
    "plt.savefig('Global_PhospoProtein_KEGG.svg')"
   ]
  },
  {
   "cell_type": "code",
   "execution_count": null,
   "id": "111384a7-d0fd-4b4a-a6aa-12d11073f429",
   "metadata": {},
   "outputs": [],
   "source": [
    "from collections import Counter\n",
    "import math\n",
    "\n",
    "Not_M1 = (\n",
    "    set(overlap.loc[(overlap['Type'] == 'Phosphopeptide') & (overlap['Region'] == 'DLS'), \"termID\"].dropna())\n",
    "    & set(overlap.loc[(overlap['Type'] == 'Phosphopeptide') & (overlap['Region'] == 'DMS'), \"termID\"].dropna())\n",
    "    & set(overlap.loc[(overlap['Type'] == 'Phosphopeptide') & (overlap['Region'] == 'S1'), \"termID\"].dropna())\n",
    ")\n",
    "\n",
    "M1 = set(overlap.loc[(overlap['Type'] == 'Phosphopeptide') & (overlap['Region'] == 'M1'), \"termID\"].dropna())\n",
    "\n",
    "M1 = Counter(M1)\n",
    "Not_M1 = Counter(Not_M1)\n",
    "\n",
    "def counter_cosine_similarity(c1, c2):\n",
    "    terms = set(c1).union(c2)\n",
    "    dotprod = sum(c1.get(k, 0) * c2.get(k, 0) for k in terms)\n",
    "    magA = math.sqrt(sum(c1.get(k, 0)**2 for k in terms))\n",
    "    magB = math.sqrt(sum(c2.get(k, 0)**2 for k in terms))\n",
    "    return dotprod / (magA * magB)\n",
    "\n",
    "counter_cosine_similarity(M1, Not_M1)"
   ]
  },
  {
   "cell_type": "markdown",
   "id": "0c08c331-2f81-4d1f-b5fa-4e481c5d6bf0",
   "metadata": {},
   "source": [
    "## Reactome"
   ]
  },
  {
   "cell_type": "code",
   "execution_count": null,
   "id": "62591e23-d4b8-447f-a6a9-a9f04e0cbf7d",
   "metadata": {},
   "outputs": [],
   "source": [
    "overlap = pd.read_excel('M1_GO.xlsx', sheet_name=\"Reactome\")\n",
    "\n",
    "f, ax = plt.subplots(figsize=(8,12))\n",
    "\n",
    "Dict = {\n",
    "    \"M1\": set(overlap.loc[(overlap['Type'] == 'Peptide') & (overlap['Region'] == 'M1'), \"termID\"].dropna()),\n",
    "    \"DLS\": set(overlap.loc[(overlap['Type'] == 'Peptide') & (overlap['Region'] == 'DLS'), \"termID\"].dropna()),\n",
    "    \"DMS\": set(overlap.loc[(overlap['Type'] == 'Peptide') & (overlap['Region'] == 'DMS'), \"termID\"].dropna()),\n",
    "    \"S1\": set(overlap.loc[(overlap['Type'] == 'Peptide') & (overlap['Region'] == 'S1'), \"termID\"].dropna()),\n",
    "}\n",
    "\n",
    "plt.title(\"Protein: Reactome\")\n",
    "\n",
    "#venn(Dict, ax = ax)\n",
    "venn(Dict, fmt=\"{percentage:.2f}%\", ax = ax)\n",
    "\n",
    "plt.savefig('UniqueReactomePERCENT.pdf', transparent = True, dpi = 300)\n",
    "plt.tight_layout()\n",
    "plt.show()\n",
    "plt.clf()"
   ]
  },
  {
   "cell_type": "code",
   "execution_count": null,
   "id": "acd8039d-25b6-464d-9514-0cf51bbed586",
   "metadata": {},
   "outputs": [],
   "source": [
    "list = (\n",
    "    set(overlap.loc[(overlap['Type'] == 'Peptide') & (overlap['Region'] == 'M1'), \"termID\"].dropna())\n",
    "    & set(overlap.loc[(overlap['Type'] == 'Peptide') & (overlap['Region'] == 'DLS'), \"termID\"].dropna())\n",
    "    & set(overlap.loc[(overlap['Type'] == 'Peptide') & (overlap['Region'] == 'DMS'), \"termID\"].dropna())\n",
    "    & set(overlap.loc[(overlap['Type'] == 'Peptide') & (overlap['Region'] == 'S1'), \"termID\"].dropna())\n",
    ")\n",
    "\n",
    "list = overlap[overlap.termID.isin(list)].groupby(['termID','termdescription']).mean().sort_values(by=['strength'], ascending=False).round(6).head()\n",
    "list = list.reset_index()\n",
    "list = list[['termdescription','observed gene count','strength','false discovery rate']]\n",
    "list.columns = ['Description', 'Gene Count', 'Strength', 'p-Value']\n",
    "\n",
    "list\n",
    "\n",
    "fig,ax = render_mpl_table(list, header_columns=0, col_width=4.0)\n",
    "\n",
    "plt.plot([0,1],[1-1/(list.shape[0]+1),1-1/(list.shape[0]+1)], c='black', lw=0.5)\n",
    "plt.xlim(0,1)\n",
    "plt.ylim(0,1)\n",
    "plt.savefig('Global_Protein_Reactome.svg')"
   ]
  },
  {
   "cell_type": "code",
   "execution_count": null,
   "id": "4ae2edbe-c710-4d92-8c68-60b0f8a1b50d",
   "metadata": {},
   "outputs": [],
   "source": [
    "from collections import Counter\n",
    "import math\n",
    "\n",
    "Not_M1 = (\n",
    "    set(overlap.loc[(overlap['Type'] == 'Peptide') & (overlap['Region'] == 'DLS'), \"termID\"].dropna())\n",
    "    & set(overlap.loc[(overlap['Type'] == 'Peptide') & (overlap['Region'] == 'DMS'), \"termID\"].dropna())\n",
    "    & set(overlap.loc[(overlap['Type'] == 'Peptide') & (overlap['Region'] == 'S1'), \"termID\"].dropna())\n",
    ")\n",
    "\n",
    "M1 = set(overlap.loc[(overlap['Type'] == 'Peptide') & (overlap['Region'] == 'M1'), \"termID\"].dropna())\n",
    "\n",
    "M1 = Counter(M1)\n",
    "Not_M1 = Counter(Not_M1)\n",
    "\n",
    "def counter_cosine_similarity(c1, c2):\n",
    "    terms = set(c1).union(c2)\n",
    "    dotprod = sum(c1.get(k, 0) * c2.get(k, 0) for k in terms)\n",
    "    magA = math.sqrt(sum(c1.get(k, 0)**2 for k in terms))\n",
    "    magB = math.sqrt(sum(c2.get(k, 0)**2 for k in terms))\n",
    "    return dotprod / (magA * magB)\n",
    "\n",
    "counter_cosine_similarity(M1, Not_M1)"
   ]
  },
  {
   "cell_type": "code",
   "execution_count": null,
   "id": "94d8f75a-5a90-4ef1-a848-c69eac5339c0",
   "metadata": {},
   "outputs": [],
   "source": [
    "overlap = pd.read_excel('M1_GO.xlsx', sheet_name=\"Reactome\")\n",
    "\n",
    "f, ax = plt.subplots(figsize=(8,12))\n",
    "\n",
    "Dict = {\n",
    "    \"M1\": set(overlap.loc[(overlap['Type'] == 'Phosphopeptide') & (overlap['Region'] == 'M1'), \"termID\"].dropna()),\n",
    "    \"DLS\": set(overlap.loc[(overlap['Type'] == 'Phosphopeptide') & (overlap['Region'] == 'DLS'), \"termID\"].dropna()),\n",
    "    \"DMS\": set(overlap.loc[(overlap['Type'] == 'Phosphopeptide') & (overlap['Region'] == 'DMS'), \"termID\"].dropna()),\n",
    "    \"S1\": set(overlap.loc[(overlap['Type'] == 'Phosphopeptide') & (overlap['Region'] == 'S1'), \"termID\"].dropna()),\n",
    "}\n",
    "\n",
    "plt.title(\"Phosphorylated Protein: Reactome\")\n",
    "\n",
    "#venn(Dict, ax = ax)\n",
    "venn(Dict, fmt=\"{percentage:.2f}%\", ax = ax)\n",
    "\n",
    "plt.savefig('UniquePhosphoReactomePERCENT.pdf', transparent = True, dpi = 300)\n",
    "plt.tight_layout()\n",
    "plt.show()\n",
    "plt.clf()"
   ]
  },
  {
   "cell_type": "code",
   "execution_count": null,
   "id": "45dfec58-baa3-4d8c-b123-f51956caac58",
   "metadata": {},
   "outputs": [],
   "source": [
    "list = (\n",
    "    set(overlap.loc[(overlap['Type'] == 'Phosphopeptide') & (overlap['Region'] == 'M1'), \"termID\"].dropna())\n",
    "    & set(overlap.loc[(overlap['Type'] == 'Phosphopeptide') & (overlap['Region'] == 'DLS'), \"termID\"].dropna())\n",
    "    & set(overlap.loc[(overlap['Type'] == 'Phosphopeptide') & (overlap['Region'] == 'DMS'), \"termID\"].dropna())\n",
    "    & set(overlap.loc[(overlap['Type'] == 'Phosphopeptide') & (overlap['Region'] == 'S1'), \"termID\"].dropna())\n",
    ")\n",
    "\n",
    "list = overlap[overlap.termID.isin(list)].groupby(['termID','termdescription']).mean().sort_values(by=['strength'], ascending=False).round(6).head()\n",
    "list = list.reset_index()\n",
    "list = list[['termdescription','observed gene count','strength','false discovery rate']]\n",
    "list.columns = ['Description', 'Gene Count', 'Strength', 'p-Value']\n",
    "\n",
    "list\n",
    "\n",
    "fig,ax = render_mpl_table(list, header_columns=0, col_width=4.0)\n",
    "\n",
    "plt.plot([0,1],[1-1/(list.shape[0]+1),1-1/(list.shape[0]+1)], c='black', lw=0.5)\n",
    "plt.xlim(0,1)\n",
    "plt.ylim(0,1)\n",
    "plt.savefig('Global_PhospoProtein_Reactome.svg')"
   ]
  },
  {
   "cell_type": "code",
   "execution_count": null,
   "id": "2e50e468-65e7-402d-8c7e-4a2fe5a9495f",
   "metadata": {},
   "outputs": [],
   "source": [
    "from collections import Counter\n",
    "import math\n",
    "\n",
    "Not_M1 = (\n",
    "    set(overlap.loc[(overlap['Type'] == 'Phosphopeptide') & (overlap['Region'] == 'DLS'), \"termID\"].dropna())\n",
    "    & set(overlap.loc[(overlap['Type'] == 'Phosphopeptide') & (overlap['Region'] == 'DMS'), \"termID\"].dropna())\n",
    "    & set(overlap.loc[(overlap['Type'] == 'Phosphopeptide') & (overlap['Region'] == 'S1'), \"termID\"].dropna())\n",
    ")\n",
    "\n",
    "M1 = set(overlap.loc[(overlap['Type'] == 'Phosphopeptide') & (overlap['Region'] == 'M1'), \"termID\"].dropna())\n",
    "\n",
    "M1 = Counter(M1)\n",
    "Not_M1 = Counter(Not_M1)\n",
    "\n",
    "def counter_cosine_similarity(c1, c2):\n",
    "    terms = set(c1).union(c2)\n",
    "    dotprod = sum(c1.get(k, 0) * c2.get(k, 0) for k in terms)\n",
    "    magA = math.sqrt(sum(c1.get(k, 0)**2 for k in terms))\n",
    "    magB = math.sqrt(sum(c2.get(k, 0)**2 for k in terms))\n",
    "    return dotprod / (magA * magB)\n",
    "\n",
    "counter_cosine_similarity(M1, Not_M1)"
   ]
  },
  {
   "cell_type": "code",
   "execution_count": null,
   "id": "141408d6-e671-434a-99b2-0f8d61a0544a",
   "metadata": {},
   "outputs": [],
   "source": []
  }
 ],
 "metadata": {
  "kernelspec": {
   "display_name": "Python 3 (ipykernel)",
   "language": "python",
   "name": "python3"
  },
  "language_info": {
   "codemirror_mode": {
    "name": "ipython",
    "version": 3
   },
   "file_extension": ".py",
   "mimetype": "text/x-python",
   "name": "python",
   "nbconvert_exporter": "python",
   "pygments_lexer": "ipython3",
   "version": "3.10.8"
  }
 },
 "nbformat": 4,
 "nbformat_minor": 5
}
